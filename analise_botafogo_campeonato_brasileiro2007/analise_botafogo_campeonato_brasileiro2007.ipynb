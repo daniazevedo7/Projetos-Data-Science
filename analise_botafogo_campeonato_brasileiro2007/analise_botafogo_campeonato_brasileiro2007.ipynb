{
  "nbformat": 4,
  "nbformat_minor": 0,
  "metadata": {
    "colab": {
      "name": "analise_botafogo_campeonato_brasileiro2007.ipynb",
      "provenance": [],
      "collapsed_sections": [],
      "mount_file_id": "1T-RJZXrGC2z5Ee8GUhb1ceLSlWPFLSAz",
      "authorship_tag": "ABX9TyNbgSYTrJxdRiKABbSDwNNq",
      "include_colab_link": true
    },
    "kernelspec": {
      "name": "python3",
      "display_name": "Python 3"
    }
  },
  "cells": [
    {
      "cell_type": "markdown",
      "metadata": {
        "id": "view-in-github",
        "colab_type": "text"
      },
      "source": [
        "<a href=\"https://colab.research.google.com/github/daniazevedo7/Projetos-Data-Science/blob/main/analise_botafogo_campeonato_brasileiro2007/analise_botafogo_campeonato_brasileiro2007.ipynb\" target=\"_parent\"><img src=\"https://colab.research.google.com/assets/colab-badge.svg\" alt=\"Open In Colab\"/></a>"
      ]
    },
    {
      "cell_type": "markdown",
      "metadata": {
        "id": "N4Y15GosAO-C"
      },
      "source": [
        "## Analisando tabela do Campeonato Brasileiro\n",
        "\n",
        "\n"
      ]
    },
    {
      "cell_type": "code",
      "metadata": {
        "id": "NgFR6Zw6AIXW"
      },
      "source": [
        "#Importando as bibliotecas\n",
        "import pandas as pd\n",
        "import matplotlib.pyplot as plt\n",
        "import numpy as np"
      ],
      "execution_count": 2,
      "outputs": []
    },
    {
      "cell_type": "markdown",
      "metadata": {
        "id": "kQLQrr6AoMaO"
      },
      "source": [
        "O dataset usado foi retirado do seguite repositório https://github.com/adaoduque/Brasileirao_Dataset"
      ]
    },
    {
      "cell_type": "code",
      "metadata": {
        "id": "3oiw5KdhAfCS"
      },
      "source": [
        "# Dataset dos campeonatos brasileiros de 2000 a 2021\n",
        "dataset_brasileirao = pd.read_csv('https://github.com/adaoduque/Brasileirao_Dataset/blob/master/campeonato-brasileiro-full.csv?raw=true')"
      ],
      "execution_count": 3,
      "outputs": []
    },
    {
      "cell_type": "markdown",
      "metadata": {
        "id": "e8c_iUCaBe-W"
      },
      "source": [
        "* Vamos começar estudar com coisas que gosto, diz que ajuda no aprendizado estudar coisas que gosta e te deixa feliz. Vamos analisar o dataset do Campeonato Brasileiro. Então vamos fazer isso, porém não é uma coisa que me deixa muito feliz nos últimos anos, pois vou analisar meu time no campeonato brasileiro, Botafogo, sim eu sei você vai me chamar de sofredor, sim eu sou :)"
      ]
    },
    {
      "cell_type": "code",
      "metadata": {
        "colab": {
          "base_uri": "https://localhost:8080/",
          "height": 606
        },
        "id": "N48AruuBBJhf",
        "outputId": "133776c3-f401-48a6-b70f-8466e4391a0f"
      },
      "source": [
        "dataset_brasileirao"
      ],
      "execution_count": 4,
      "outputs": [
        {
          "output_type": "execute_result",
          "data": {
            "text/html": [
              "<div>\n",
              "<style scoped>\n",
              "    .dataframe tbody tr th:only-of-type {\n",
              "        vertical-align: middle;\n",
              "    }\n",
              "\n",
              "    .dataframe tbody tr th {\n",
              "        vertical-align: top;\n",
              "    }\n",
              "\n",
              "    .dataframe thead th {\n",
              "        text-align: right;\n",
              "    }\n",
              "</style>\n",
              "<table border=\"1\" class=\"dataframe\">\n",
              "  <thead>\n",
              "    <tr style=\"text-align: right;\">\n",
              "      <th></th>\n",
              "      <th>ID</th>\n",
              "      <th>Rodada</th>\n",
              "      <th>Data</th>\n",
              "      <th>Horário</th>\n",
              "      <th>Dia</th>\n",
              "      <th>Mandante</th>\n",
              "      <th>Visitante</th>\n",
              "      <th>Vencedor</th>\n",
              "      <th>Arena</th>\n",
              "      <th>Mandante Placar</th>\n",
              "      <th>Visitante Placar</th>\n",
              "      <th>Estado Mandante</th>\n",
              "      <th>Estado Visitante</th>\n",
              "      <th>Estado Vencedor</th>\n",
              "    </tr>\n",
              "  </thead>\n",
              "  <tbody>\n",
              "    <tr>\n",
              "      <th>0</th>\n",
              "      <td>1</td>\n",
              "      <td>1</td>\n",
              "      <td>2000-07-29</td>\n",
              "      <td>16h00</td>\n",
              "      <td>Sábado</td>\n",
              "      <td>Fluminense</td>\n",
              "      <td>Bahia</td>\n",
              "      <td>Fluminense</td>\n",
              "      <td>Maracanã</td>\n",
              "      <td>2</td>\n",
              "      <td>0</td>\n",
              "      <td>RJ</td>\n",
              "      <td>BA</td>\n",
              "      <td>RJ</td>\n",
              "    </tr>\n",
              "    <tr>\n",
              "      <th>1</th>\n",
              "      <td>2</td>\n",
              "      <td>1</td>\n",
              "      <td>2000-07-29</td>\n",
              "      <td>16h00</td>\n",
              "      <td>Sábado</td>\n",
              "      <td>Vasco</td>\n",
              "      <td>Sport</td>\n",
              "      <td>Sport</td>\n",
              "      <td>São Januário</td>\n",
              "      <td>0</td>\n",
              "      <td>2</td>\n",
              "      <td>RJ</td>\n",
              "      <td>PE</td>\n",
              "      <td>PE</td>\n",
              "    </tr>\n",
              "    <tr>\n",
              "      <th>2</th>\n",
              "      <td>3</td>\n",
              "      <td>1</td>\n",
              "      <td>2000-07-29</td>\n",
              "      <td>16h00</td>\n",
              "      <td>Sábado</td>\n",
              "      <td>Vitória</td>\n",
              "      <td>Palmeiras</td>\n",
              "      <td>Vitória</td>\n",
              "      <td>Barradão</td>\n",
              "      <td>4</td>\n",
              "      <td>1</td>\n",
              "      <td>ES</td>\n",
              "      <td>SP</td>\n",
              "      <td>ES</td>\n",
              "    </tr>\n",
              "    <tr>\n",
              "      <th>3</th>\n",
              "      <td>4</td>\n",
              "      <td>1</td>\n",
              "      <td>2000-07-30</td>\n",
              "      <td>17h00</td>\n",
              "      <td>Domingo</td>\n",
              "      <td>Botafogo-RJ</td>\n",
              "      <td>Atlético-MG</td>\n",
              "      <td>-</td>\n",
              "      <td>Caio Martins</td>\n",
              "      <td>0</td>\n",
              "      <td>0</td>\n",
              "      <td>RJ</td>\n",
              "      <td>MG</td>\n",
              "      <td>-</td>\n",
              "    </tr>\n",
              "    <tr>\n",
              "      <th>4</th>\n",
              "      <td>5</td>\n",
              "      <td>1</td>\n",
              "      <td>2000-07-30</td>\n",
              "      <td>18h30</td>\n",
              "      <td>Domingo</td>\n",
              "      <td>Juventude</td>\n",
              "      <td>Flamengo</td>\n",
              "      <td>-</td>\n",
              "      <td>Alfredo Jaconi</td>\n",
              "      <td>1</td>\n",
              "      <td>1</td>\n",
              "      <td>RS</td>\n",
              "      <td>RJ</td>\n",
              "      <td>-</td>\n",
              "    </tr>\n",
              "    <tr>\n",
              "      <th>...</th>\n",
              "      <td>...</td>\n",
              "      <td>...</td>\n",
              "      <td>...</td>\n",
              "      <td>...</td>\n",
              "      <td>...</td>\n",
              "      <td>...</td>\n",
              "      <td>...</td>\n",
              "      <td>...</td>\n",
              "      <td>...</td>\n",
              "      <td>...</td>\n",
              "      <td>...</td>\n",
              "      <td>...</td>\n",
              "      <td>...</td>\n",
              "      <td>...</td>\n",
              "    </tr>\n",
              "    <tr>\n",
              "      <th>8314</th>\n",
              "      <td>8315</td>\n",
              "      <td>38</td>\n",
              "      <td>2021-02-25</td>\n",
              "      <td>21:30</td>\n",
              "      <td>Quinta-Feira</td>\n",
              "      <td>Internacional</td>\n",
              "      <td>Corinthians</td>\n",
              "      <td>-</td>\n",
              "      <td>Beira Rio</td>\n",
              "      <td>0</td>\n",
              "      <td>0</td>\n",
              "      <td>RS</td>\n",
              "      <td>SP</td>\n",
              "      <td>-</td>\n",
              "    </tr>\n",
              "    <tr>\n",
              "      <th>8315</th>\n",
              "      <td>8316</td>\n",
              "      <td>38</td>\n",
              "      <td>2021-02-25</td>\n",
              "      <td>21:30</td>\n",
              "      <td>Quinta-Feira</td>\n",
              "      <td>Bahia</td>\n",
              "      <td>Santos</td>\n",
              "      <td>Bahia</td>\n",
              "      <td>Itaipava Arena Fonte Nova</td>\n",
              "      <td>2</td>\n",
              "      <td>0</td>\n",
              "      <td>BA</td>\n",
              "      <td>SP</td>\n",
              "      <td>BA</td>\n",
              "    </tr>\n",
              "    <tr>\n",
              "      <th>8316</th>\n",
              "      <td>8317</td>\n",
              "      <td>38</td>\n",
              "      <td>2021-02-25</td>\n",
              "      <td>21:30</td>\n",
              "      <td>Quinta-Feira</td>\n",
              "      <td>Athlético-PR</td>\n",
              "      <td>Sport</td>\n",
              "      <td>Athlético-PR</td>\n",
              "      <td>Arena da Baixada</td>\n",
              "      <td>2</td>\n",
              "      <td>0</td>\n",
              "      <td>PR</td>\n",
              "      <td>PE</td>\n",
              "      <td>PR</td>\n",
              "    </tr>\n",
              "    <tr>\n",
              "      <th>8317</th>\n",
              "      <td>8318</td>\n",
              "      <td>38</td>\n",
              "      <td>2021-02-25</td>\n",
              "      <td>21:30</td>\n",
              "      <td>Quinta-Feira</td>\n",
              "      <td>Ceará</td>\n",
              "      <td>Botafogo-RJ</td>\n",
              "      <td>Ceará</td>\n",
              "      <td>Castelão</td>\n",
              "      <td>2</td>\n",
              "      <td>1</td>\n",
              "      <td>CE</td>\n",
              "      <td>RJ</td>\n",
              "      <td>CE</td>\n",
              "    </tr>\n",
              "    <tr>\n",
              "      <th>8318</th>\n",
              "      <td>8319</td>\n",
              "      <td>38</td>\n",
              "      <td>2021-02-25</td>\n",
              "      <td>21:30</td>\n",
              "      <td>Quinta-Feira</td>\n",
              "      <td>Atlético-GO</td>\n",
              "      <td>Coritiba</td>\n",
              "      <td>Atlético-GO</td>\n",
              "      <td>Antônio Accioly</td>\n",
              "      <td>3</td>\n",
              "      <td>1</td>\n",
              "      <td>GO</td>\n",
              "      <td>PR</td>\n",
              "      <td>GO</td>\n",
              "    </tr>\n",
              "  </tbody>\n",
              "</table>\n",
              "<p>8319 rows × 14 columns</p>\n",
              "</div>"
            ],
            "text/plain": [
              "        ID Rodada        Data  ... Estado Mandante Estado Visitante Estado Vencedor\n",
              "0        1      1  2000-07-29  ...              RJ               BA              RJ\n",
              "1        2      1  2000-07-29  ...              RJ               PE              PE\n",
              "2        3      1  2000-07-29  ...              ES               SP              ES\n",
              "3        4      1  2000-07-30  ...              RJ               MG               -\n",
              "4        5      1  2000-07-30  ...              RS               RJ               -\n",
              "...    ...    ...         ...  ...             ...              ...             ...\n",
              "8314  8315     38  2021-02-25  ...              RS               SP               -\n",
              "8315  8316     38  2021-02-25  ...              BA               SP              BA\n",
              "8316  8317     38  2021-02-25  ...              PR               PE              PR\n",
              "8317  8318     38  2021-02-25  ...              CE               RJ              CE\n",
              "8318  8319     38  2021-02-25  ...              GO               PR              GO\n",
              "\n",
              "[8319 rows x 14 columns]"
            ]
          },
          "metadata": {
            "tags": []
          },
          "execution_count": 4
        }
      ]
    },
    {
      "cell_type": "code",
      "metadata": {
        "colab": {
          "base_uri": "https://localhost:8080/",
          "height": 306
        },
        "id": "dkK17fBKDJaR",
        "outputId": "c6d2aad5-8eb7-42ee-d8ad-cec817445f9a"
      },
      "source": [
        "dataset_brasileirao.head()"
      ],
      "execution_count": 5,
      "outputs": [
        {
          "output_type": "execute_result",
          "data": {
            "text/html": [
              "<div>\n",
              "<style scoped>\n",
              "    .dataframe tbody tr th:only-of-type {\n",
              "        vertical-align: middle;\n",
              "    }\n",
              "\n",
              "    .dataframe tbody tr th {\n",
              "        vertical-align: top;\n",
              "    }\n",
              "\n",
              "    .dataframe thead th {\n",
              "        text-align: right;\n",
              "    }\n",
              "</style>\n",
              "<table border=\"1\" class=\"dataframe\">\n",
              "  <thead>\n",
              "    <tr style=\"text-align: right;\">\n",
              "      <th></th>\n",
              "      <th>ID</th>\n",
              "      <th>Rodada</th>\n",
              "      <th>Data</th>\n",
              "      <th>Horário</th>\n",
              "      <th>Dia</th>\n",
              "      <th>Mandante</th>\n",
              "      <th>Visitante</th>\n",
              "      <th>Vencedor</th>\n",
              "      <th>Arena</th>\n",
              "      <th>Mandante Placar</th>\n",
              "      <th>Visitante Placar</th>\n",
              "      <th>Estado Mandante</th>\n",
              "      <th>Estado Visitante</th>\n",
              "      <th>Estado Vencedor</th>\n",
              "    </tr>\n",
              "  </thead>\n",
              "  <tbody>\n",
              "    <tr>\n",
              "      <th>0</th>\n",
              "      <td>1</td>\n",
              "      <td>1</td>\n",
              "      <td>2000-07-29</td>\n",
              "      <td>16h00</td>\n",
              "      <td>Sábado</td>\n",
              "      <td>Fluminense</td>\n",
              "      <td>Bahia</td>\n",
              "      <td>Fluminense</td>\n",
              "      <td>Maracanã</td>\n",
              "      <td>2</td>\n",
              "      <td>0</td>\n",
              "      <td>RJ</td>\n",
              "      <td>BA</td>\n",
              "      <td>RJ</td>\n",
              "    </tr>\n",
              "    <tr>\n",
              "      <th>1</th>\n",
              "      <td>2</td>\n",
              "      <td>1</td>\n",
              "      <td>2000-07-29</td>\n",
              "      <td>16h00</td>\n",
              "      <td>Sábado</td>\n",
              "      <td>Vasco</td>\n",
              "      <td>Sport</td>\n",
              "      <td>Sport</td>\n",
              "      <td>São Januário</td>\n",
              "      <td>0</td>\n",
              "      <td>2</td>\n",
              "      <td>RJ</td>\n",
              "      <td>PE</td>\n",
              "      <td>PE</td>\n",
              "    </tr>\n",
              "    <tr>\n",
              "      <th>2</th>\n",
              "      <td>3</td>\n",
              "      <td>1</td>\n",
              "      <td>2000-07-29</td>\n",
              "      <td>16h00</td>\n",
              "      <td>Sábado</td>\n",
              "      <td>Vitória</td>\n",
              "      <td>Palmeiras</td>\n",
              "      <td>Vitória</td>\n",
              "      <td>Barradão</td>\n",
              "      <td>4</td>\n",
              "      <td>1</td>\n",
              "      <td>ES</td>\n",
              "      <td>SP</td>\n",
              "      <td>ES</td>\n",
              "    </tr>\n",
              "    <tr>\n",
              "      <th>3</th>\n",
              "      <td>4</td>\n",
              "      <td>1</td>\n",
              "      <td>2000-07-30</td>\n",
              "      <td>17h00</td>\n",
              "      <td>Domingo</td>\n",
              "      <td>Botafogo-RJ</td>\n",
              "      <td>Atlético-MG</td>\n",
              "      <td>-</td>\n",
              "      <td>Caio Martins</td>\n",
              "      <td>0</td>\n",
              "      <td>0</td>\n",
              "      <td>RJ</td>\n",
              "      <td>MG</td>\n",
              "      <td>-</td>\n",
              "    </tr>\n",
              "    <tr>\n",
              "      <th>4</th>\n",
              "      <td>5</td>\n",
              "      <td>1</td>\n",
              "      <td>2000-07-30</td>\n",
              "      <td>18h30</td>\n",
              "      <td>Domingo</td>\n",
              "      <td>Juventude</td>\n",
              "      <td>Flamengo</td>\n",
              "      <td>-</td>\n",
              "      <td>Alfredo Jaconi</td>\n",
              "      <td>1</td>\n",
              "      <td>1</td>\n",
              "      <td>RS</td>\n",
              "      <td>RJ</td>\n",
              "      <td>-</td>\n",
              "    </tr>\n",
              "  </tbody>\n",
              "</table>\n",
              "</div>"
            ],
            "text/plain": [
              "   ID Rodada        Data  ... Estado Mandante Estado Visitante Estado Vencedor\n",
              "0   1      1  2000-07-29  ...              RJ               BA              RJ\n",
              "1   2      1  2000-07-29  ...              RJ               PE              PE\n",
              "2   3      1  2000-07-29  ...              ES               SP              ES\n",
              "3   4      1  2000-07-30  ...              RJ               MG               -\n",
              "4   5      1  2000-07-30  ...              RS               RJ               -\n",
              "\n",
              "[5 rows x 14 columns]"
            ]
          },
          "metadata": {
            "tags": []
          },
          "execution_count": 5
        }
      ]
    },
    {
      "cell_type": "code",
      "metadata": {
        "colab": {
          "base_uri": "https://localhost:8080/"
        },
        "id": "tN5rZD4sFAt5",
        "outputId": "ef6f97e4-74fb-46ee-cb9c-d49eff51d762"
      },
      "source": [
        "#Retorna o nome das colunas do dataframe\n",
        "dataset_brasileirao.columns"
      ],
      "execution_count": 6,
      "outputs": [
        {
          "output_type": "execute_result",
          "data": {
            "text/plain": [
              "Index(['ID', 'Rodada', 'Data', 'Horário', 'Dia', 'Mandante', 'Visitante',\n",
              "       'Vencedor', 'Arena', 'Mandante Placar', 'Visitante Placar',\n",
              "       'Estado Mandante', 'Estado Visitante', 'Estado Vencedor'],\n",
              "      dtype='object')"
            ]
          },
          "metadata": {
            "tags": []
          },
          "execution_count": 6
        }
      ]
    },
    {
      "cell_type": "code",
      "metadata": {
        "colab": {
          "base_uri": "https://localhost:8080/"
        },
        "id": "_hUrIYNgFF0V",
        "outputId": "bc8866d3-77f7-4ce5-e39e-e494de5dea21"
      },
      "source": [
        "#Retorna a quantidade de linhas de todas as colunas\n",
        "dataset_brasileirao.count()"
      ],
      "execution_count": 7,
      "outputs": [
        {
          "output_type": "execute_result",
          "data": {
            "text/plain": [
              "ID                  8319\n",
              "Rodada              8319\n",
              "Data                8319\n",
              "Horário             7962\n",
              "Dia                 8319\n",
              "Mandante            8319\n",
              "Visitante           8319\n",
              "Vencedor            8319\n",
              "Arena               8319\n",
              "Mandante Placar     8319\n",
              "Visitante Placar    8319\n",
              "Estado Mandante     8319\n",
              "Estado Visitante    8319\n",
              "Estado Vencedor     8319\n",
              "dtype: int64"
            ]
          },
          "metadata": {
            "tags": []
          },
          "execution_count": 7
        }
      ]
    },
    {
      "cell_type": "code",
      "metadata": {
        "colab": {
          "base_uri": "https://localhost:8080/",
          "height": 297
        },
        "id": "EzBwue4eFFxJ",
        "outputId": "fea0f34b-46c8-470b-d745-a49db9d708b9"
      },
      "source": [
        "#O método describe retorna informações estatística do dataset: desvio padrão, média, valor mínimo, valor máximo de colunas\n",
        "dataset_brasileirao.describe()"
      ],
      "execution_count": 8,
      "outputs": [
        {
          "output_type": "execute_result",
          "data": {
            "text/html": [
              "<div>\n",
              "<style scoped>\n",
              "    .dataframe tbody tr th:only-of-type {\n",
              "        vertical-align: middle;\n",
              "    }\n",
              "\n",
              "    .dataframe tbody tr th {\n",
              "        vertical-align: top;\n",
              "    }\n",
              "\n",
              "    .dataframe thead th {\n",
              "        text-align: right;\n",
              "    }\n",
              "</style>\n",
              "<table border=\"1\" class=\"dataframe\">\n",
              "  <thead>\n",
              "    <tr style=\"text-align: right;\">\n",
              "      <th></th>\n",
              "      <th>ID</th>\n",
              "      <th>Mandante Placar</th>\n",
              "      <th>Visitante Placar</th>\n",
              "    </tr>\n",
              "  </thead>\n",
              "  <tbody>\n",
              "    <tr>\n",
              "      <th>count</th>\n",
              "      <td>8319.000000</td>\n",
              "      <td>8319.000000</td>\n",
              "      <td>8319.000000</td>\n",
              "    </tr>\n",
              "    <tr>\n",
              "      <th>mean</th>\n",
              "      <td>4160.000000</td>\n",
              "      <td>1.588292</td>\n",
              "      <td>1.053492</td>\n",
              "    </tr>\n",
              "    <tr>\n",
              "      <th>std</th>\n",
              "      <td>2401.632778</td>\n",
              "      <td>1.245473</td>\n",
              "      <td>1.040604</td>\n",
              "    </tr>\n",
              "    <tr>\n",
              "      <th>min</th>\n",
              "      <td>1.000000</td>\n",
              "      <td>0.000000</td>\n",
              "      <td>0.000000</td>\n",
              "    </tr>\n",
              "    <tr>\n",
              "      <th>25%</th>\n",
              "      <td>2080.500000</td>\n",
              "      <td>1.000000</td>\n",
              "      <td>0.000000</td>\n",
              "    </tr>\n",
              "    <tr>\n",
              "      <th>50%</th>\n",
              "      <td>4160.000000</td>\n",
              "      <td>1.000000</td>\n",
              "      <td>1.000000</td>\n",
              "    </tr>\n",
              "    <tr>\n",
              "      <th>75%</th>\n",
              "      <td>6239.500000</td>\n",
              "      <td>2.000000</td>\n",
              "      <td>2.000000</td>\n",
              "    </tr>\n",
              "    <tr>\n",
              "      <th>max</th>\n",
              "      <td>8319.000000</td>\n",
              "      <td>7.000000</td>\n",
              "      <td>7.000000</td>\n",
              "    </tr>\n",
              "  </tbody>\n",
              "</table>\n",
              "</div>"
            ],
            "text/plain": [
              "                ID  Mandante Placar  Visitante Placar\n",
              "count  8319.000000      8319.000000       8319.000000\n",
              "mean   4160.000000         1.588292          1.053492\n",
              "std    2401.632778         1.245473          1.040604\n",
              "min       1.000000         0.000000          0.000000\n",
              "25%    2080.500000         1.000000          0.000000\n",
              "50%    4160.000000         1.000000          1.000000\n",
              "75%    6239.500000         2.000000          2.000000\n",
              "max    8319.000000         7.000000          7.000000"
            ]
          },
          "metadata": {
            "tags": []
          },
          "execution_count": 8
        }
      ]
    },
    {
      "cell_type": "code",
      "metadata": {
        "colab": {
          "base_uri": "https://localhost:8080/",
          "height": 306
        },
        "id": "FmDRnSKsFFuE",
        "outputId": "1276041c-32c0-434e-9602-e62870b12f8e"
      },
      "source": [
        "#imprime as 5 ultimas linhas\n",
        "dataset_brasileirao.tail()"
      ],
      "execution_count": 9,
      "outputs": [
        {
          "output_type": "execute_result",
          "data": {
            "text/html": [
              "<div>\n",
              "<style scoped>\n",
              "    .dataframe tbody tr th:only-of-type {\n",
              "        vertical-align: middle;\n",
              "    }\n",
              "\n",
              "    .dataframe tbody tr th {\n",
              "        vertical-align: top;\n",
              "    }\n",
              "\n",
              "    .dataframe thead th {\n",
              "        text-align: right;\n",
              "    }\n",
              "</style>\n",
              "<table border=\"1\" class=\"dataframe\">\n",
              "  <thead>\n",
              "    <tr style=\"text-align: right;\">\n",
              "      <th></th>\n",
              "      <th>ID</th>\n",
              "      <th>Rodada</th>\n",
              "      <th>Data</th>\n",
              "      <th>Horário</th>\n",
              "      <th>Dia</th>\n",
              "      <th>Mandante</th>\n",
              "      <th>Visitante</th>\n",
              "      <th>Vencedor</th>\n",
              "      <th>Arena</th>\n",
              "      <th>Mandante Placar</th>\n",
              "      <th>Visitante Placar</th>\n",
              "      <th>Estado Mandante</th>\n",
              "      <th>Estado Visitante</th>\n",
              "      <th>Estado Vencedor</th>\n",
              "    </tr>\n",
              "  </thead>\n",
              "  <tbody>\n",
              "    <tr>\n",
              "      <th>8314</th>\n",
              "      <td>8315</td>\n",
              "      <td>38</td>\n",
              "      <td>2021-02-25</td>\n",
              "      <td>21:30</td>\n",
              "      <td>Quinta-Feira</td>\n",
              "      <td>Internacional</td>\n",
              "      <td>Corinthians</td>\n",
              "      <td>-</td>\n",
              "      <td>Beira Rio</td>\n",
              "      <td>0</td>\n",
              "      <td>0</td>\n",
              "      <td>RS</td>\n",
              "      <td>SP</td>\n",
              "      <td>-</td>\n",
              "    </tr>\n",
              "    <tr>\n",
              "      <th>8315</th>\n",
              "      <td>8316</td>\n",
              "      <td>38</td>\n",
              "      <td>2021-02-25</td>\n",
              "      <td>21:30</td>\n",
              "      <td>Quinta-Feira</td>\n",
              "      <td>Bahia</td>\n",
              "      <td>Santos</td>\n",
              "      <td>Bahia</td>\n",
              "      <td>Itaipava Arena Fonte Nova</td>\n",
              "      <td>2</td>\n",
              "      <td>0</td>\n",
              "      <td>BA</td>\n",
              "      <td>SP</td>\n",
              "      <td>BA</td>\n",
              "    </tr>\n",
              "    <tr>\n",
              "      <th>8316</th>\n",
              "      <td>8317</td>\n",
              "      <td>38</td>\n",
              "      <td>2021-02-25</td>\n",
              "      <td>21:30</td>\n",
              "      <td>Quinta-Feira</td>\n",
              "      <td>Athlético-PR</td>\n",
              "      <td>Sport</td>\n",
              "      <td>Athlético-PR</td>\n",
              "      <td>Arena da Baixada</td>\n",
              "      <td>2</td>\n",
              "      <td>0</td>\n",
              "      <td>PR</td>\n",
              "      <td>PE</td>\n",
              "      <td>PR</td>\n",
              "    </tr>\n",
              "    <tr>\n",
              "      <th>8317</th>\n",
              "      <td>8318</td>\n",
              "      <td>38</td>\n",
              "      <td>2021-02-25</td>\n",
              "      <td>21:30</td>\n",
              "      <td>Quinta-Feira</td>\n",
              "      <td>Ceará</td>\n",
              "      <td>Botafogo-RJ</td>\n",
              "      <td>Ceará</td>\n",
              "      <td>Castelão</td>\n",
              "      <td>2</td>\n",
              "      <td>1</td>\n",
              "      <td>CE</td>\n",
              "      <td>RJ</td>\n",
              "      <td>CE</td>\n",
              "    </tr>\n",
              "    <tr>\n",
              "      <th>8318</th>\n",
              "      <td>8319</td>\n",
              "      <td>38</td>\n",
              "      <td>2021-02-25</td>\n",
              "      <td>21:30</td>\n",
              "      <td>Quinta-Feira</td>\n",
              "      <td>Atlético-GO</td>\n",
              "      <td>Coritiba</td>\n",
              "      <td>Atlético-GO</td>\n",
              "      <td>Antônio Accioly</td>\n",
              "      <td>3</td>\n",
              "      <td>1</td>\n",
              "      <td>GO</td>\n",
              "      <td>PR</td>\n",
              "      <td>GO</td>\n",
              "    </tr>\n",
              "  </tbody>\n",
              "</table>\n",
              "</div>"
            ],
            "text/plain": [
              "        ID Rodada        Data  ... Estado Mandante Estado Visitante Estado Vencedor\n",
              "8314  8315     38  2021-02-25  ...              RS               SP               -\n",
              "8315  8316     38  2021-02-25  ...              BA               SP              BA\n",
              "8316  8317     38  2021-02-25  ...              PR               PE              PR\n",
              "8317  8318     38  2021-02-25  ...              CE               RJ              CE\n",
              "8318  8319     38  2021-02-25  ...              GO               PR              GO\n",
              "\n",
              "[5 rows x 14 columns]"
            ]
          },
          "metadata": {
            "tags": []
          },
          "execution_count": 9
        }
      ]
    },
    {
      "cell_type": "code",
      "metadata": {
        "colab": {
          "base_uri": "https://localhost:8080/",
          "height": 306
        },
        "id": "qXW7hIywFFpU",
        "outputId": "a92b1981-afa3-49fe-dfd5-84d997d40e31"
      },
      "source": [
        "#imprime uma amostra aleatória do dataset\n",
        "dataset_brasileirao.sample(5)"
      ],
      "execution_count": 10,
      "outputs": [
        {
          "output_type": "execute_result",
          "data": {
            "text/html": [
              "<div>\n",
              "<style scoped>\n",
              "    .dataframe tbody tr th:only-of-type {\n",
              "        vertical-align: middle;\n",
              "    }\n",
              "\n",
              "    .dataframe tbody tr th {\n",
              "        vertical-align: top;\n",
              "    }\n",
              "\n",
              "    .dataframe thead th {\n",
              "        text-align: right;\n",
              "    }\n",
              "</style>\n",
              "<table border=\"1\" class=\"dataframe\">\n",
              "  <thead>\n",
              "    <tr style=\"text-align: right;\">\n",
              "      <th></th>\n",
              "      <th>ID</th>\n",
              "      <th>Rodada</th>\n",
              "      <th>Data</th>\n",
              "      <th>Horário</th>\n",
              "      <th>Dia</th>\n",
              "      <th>Mandante</th>\n",
              "      <th>Visitante</th>\n",
              "      <th>Vencedor</th>\n",
              "      <th>Arena</th>\n",
              "      <th>Mandante Placar</th>\n",
              "      <th>Visitante Placar</th>\n",
              "      <th>Estado Mandante</th>\n",
              "      <th>Estado Visitante</th>\n",
              "      <th>Estado Vencedor</th>\n",
              "    </tr>\n",
              "  </thead>\n",
              "  <tbody>\n",
              "    <tr>\n",
              "      <th>7186</th>\n",
              "      <td>7187</td>\n",
              "      <td>1</td>\n",
              "      <td>2018-04-15</td>\n",
              "      <td>16:00</td>\n",
              "      <td>Domingo</td>\n",
              "      <td>Vasco</td>\n",
              "      <td>Atlético-MG</td>\n",
              "      <td>Vasco</td>\n",
              "      <td>São Januário</td>\n",
              "      <td>2</td>\n",
              "      <td>1</td>\n",
              "      <td>RJ</td>\n",
              "      <td>MG</td>\n",
              "      <td>RJ</td>\n",
              "    </tr>\n",
              "    <tr>\n",
              "      <th>4543</th>\n",
              "      <td>4544</td>\n",
              "      <td>3</td>\n",
              "      <td>2011-06-05</td>\n",
              "      <td>16h00</td>\n",
              "      <td>Domingo</td>\n",
              "      <td>Flamengo</td>\n",
              "      <td>Corinthians</td>\n",
              "      <td>-</td>\n",
              "      <td>Engenhão</td>\n",
              "      <td>1</td>\n",
              "      <td>1</td>\n",
              "      <td>RJ</td>\n",
              "      <td>SP</td>\n",
              "      <td>-</td>\n",
              "    </tr>\n",
              "    <tr>\n",
              "      <th>4435</th>\n",
              "      <td>4436</td>\n",
              "      <td>30</td>\n",
              "      <td>2010-10-17</td>\n",
              "      <td>16h00</td>\n",
              "      <td>Domingo</td>\n",
              "      <td>Atlético-MG</td>\n",
              "      <td>Avaí</td>\n",
              "      <td>Atlético-MG</td>\n",
              "      <td>Arena do Jacaré</td>\n",
              "      <td>2</td>\n",
              "      <td>0</td>\n",
              "      <td>MG</td>\n",
              "      <td>SC</td>\n",
              "      <td>MG</td>\n",
              "    </tr>\n",
              "    <tr>\n",
              "      <th>8075</th>\n",
              "      <td>8076</td>\n",
              "      <td>14</td>\n",
              "      <td>2020-10-07</td>\n",
              "      <td>21:30</td>\n",
              "      <td>Quarta-Feira</td>\n",
              "      <td>Botafogo-RJ</td>\n",
              "      <td>Palmeiras</td>\n",
              "      <td>Botafogo-RJ</td>\n",
              "      <td>Nilton Santos (Engenhão)</td>\n",
              "      <td>2</td>\n",
              "      <td>1</td>\n",
              "      <td>RJ</td>\n",
              "      <td>SP</td>\n",
              "      <td>RJ</td>\n",
              "    </tr>\n",
              "    <tr>\n",
              "      <th>5115</th>\n",
              "      <td>5116</td>\n",
              "      <td>22</td>\n",
              "      <td>2012-09-05</td>\n",
              "      <td>19h30</td>\n",
              "      <td>Quarta-feira</td>\n",
              "      <td>Portuguesa</td>\n",
              "      <td>Coritiba</td>\n",
              "      <td>Portuguesa</td>\n",
              "      <td>Canindé</td>\n",
              "      <td>3</td>\n",
              "      <td>0</td>\n",
              "      <td>SP</td>\n",
              "      <td>PR</td>\n",
              "      <td>SP</td>\n",
              "    </tr>\n",
              "  </tbody>\n",
              "</table>\n",
              "</div>"
            ],
            "text/plain": [
              "        ID Rodada        Data  ... Estado Mandante Estado Visitante Estado Vencedor\n",
              "7186  7187      1  2018-04-15  ...              RJ               MG              RJ\n",
              "4543  4544      3  2011-06-05  ...              RJ               SP               -\n",
              "4435  4436     30  2010-10-17  ...              MG               SC              MG\n",
              "8075  8076     14  2020-10-07  ...              RJ               SP              RJ\n",
              "5115  5116     22  2012-09-05  ...              SP               PR              SP\n",
              "\n",
              "[5 rows x 14 columns]"
            ]
          },
          "metadata": {
            "tags": []
          },
          "execution_count": 10
        }
      ]
    },
    {
      "cell_type": "code",
      "metadata": {
        "colab": {
          "base_uri": "https://localhost:8080/"
        },
        "id": "kMaPcjizFFg-",
        "outputId": "ca8a6978-5282-437b-b7a6-719b57ad2225"
      },
      "source": [
        "# Retorna em formato de tupla a quantidade de linhas e colunas do dataset\n",
        "dataset_brasileirao.shape"
      ],
      "execution_count": 11,
      "outputs": [
        {
          "output_type": "execute_result",
          "data": {
            "text/plain": [
              "(8319, 14)"
            ]
          },
          "metadata": {
            "tags": []
          },
          "execution_count": 11
        }
      ]
    },
    {
      "cell_type": "code",
      "metadata": {
        "colab": {
          "base_uri": "https://localhost:8080/"
        },
        "id": "iW-_utJiEMmA",
        "outputId": "eabd3803-2c55-4895-937e-a60cac2f37f1"
      },
      "source": [
        "# Retorna informações sobre coluna e uso de memória\n",
        "dataset_brasileirao.info()"
      ],
      "execution_count": 12,
      "outputs": [
        {
          "output_type": "stream",
          "text": [
            "<class 'pandas.core.frame.DataFrame'>\n",
            "RangeIndex: 8319 entries, 0 to 8318\n",
            "Data columns (total 14 columns):\n",
            " #   Column            Non-Null Count  Dtype \n",
            "---  ------            --------------  ----- \n",
            " 0   ID                8319 non-null   int64 \n",
            " 1   Rodada            8319 non-null   object\n",
            " 2   Data              8319 non-null   object\n",
            " 3   Horário           7962 non-null   object\n",
            " 4   Dia               8319 non-null   object\n",
            " 5   Mandante          8319 non-null   object\n",
            " 6   Visitante         8319 non-null   object\n",
            " 7   Vencedor          8319 non-null   object\n",
            " 8   Arena             8319 non-null   object\n",
            " 9   Mandante Placar   8319 non-null   int64 \n",
            " 10  Visitante Placar  8319 non-null   int64 \n",
            " 11  Estado Mandante   8319 non-null   object\n",
            " 12  Estado Visitante  8319 non-null   object\n",
            " 13  Estado Vencedor   8319 non-null   object\n",
            "dtypes: int64(3), object(11)\n",
            "memory usage: 910.0+ KB\n"
          ],
          "name": "stdout"
        }
      ]
    },
    {
      "cell_type": "markdown",
      "metadata": {
        "id": "2_qp6DaTrFEe"
      },
      "source": [
        "\n",
        "\n",
        "###  Vou filtrar somente o campeonato Brasileiro de 2007 e analisar o desempenho do Botafogo nesse campeonato\n",
        "\n"
      ]
    },
    {
      "cell_type": "code",
      "metadata": {
        "id": "MyGV_5sfKpw8",
        "colab": {
          "base_uri": "https://localhost:8080/"
        },
        "outputId": "8e7f608d-1399-44c6-ec58-0fd1f12c8f68"
      },
      "source": [
        "# Converter coluna data para o tipo datetime\n",
        "dataset_brasileirao['Data'] = pd.to_datetime(dataset_brasileirao['Data'])\n",
        "dataset_brasileirao.info()"
      ],
      "execution_count": 13,
      "outputs": [
        {
          "output_type": "stream",
          "text": [
            "<class 'pandas.core.frame.DataFrame'>\n",
            "RangeIndex: 8319 entries, 0 to 8318\n",
            "Data columns (total 14 columns):\n",
            " #   Column            Non-Null Count  Dtype         \n",
            "---  ------            --------------  -----         \n",
            " 0   ID                8319 non-null   int64         \n",
            " 1   Rodada            8319 non-null   object        \n",
            " 2   Data              8319 non-null   datetime64[ns]\n",
            " 3   Horário           7962 non-null   object        \n",
            " 4   Dia               8319 non-null   object        \n",
            " 5   Mandante          8319 non-null   object        \n",
            " 6   Visitante         8319 non-null   object        \n",
            " 7   Vencedor          8319 non-null   object        \n",
            " 8   Arena             8319 non-null   object        \n",
            " 9   Mandante Placar   8319 non-null   int64         \n",
            " 10  Visitante Placar  8319 non-null   int64         \n",
            " 11  Estado Mandante   8319 non-null   object        \n",
            " 12  Estado Visitante  8319 non-null   object        \n",
            " 13  Estado Vencedor   8319 non-null   object        \n",
            "dtypes: datetime64[ns](1), int64(3), object(10)\n",
            "memory usage: 910.0+ KB\n"
          ],
          "name": "stdout"
        }
      ]
    },
    {
      "cell_type": "code",
      "metadata": {
        "id": "Ze3FSA-WSTAM"
      },
      "source": [
        "# Filtrar o dataset pelo campeonato brasileiro de 2007\n",
        "filtro1 = dataset_brasileirao['Data'] >= '2007-01-01'\n",
        "filtro2 = dataset_brasileirao['Data'] <= '2007-12-31'"
      ],
      "execution_count": 14,
      "outputs": []
    },
    {
      "cell_type": "code",
      "metadata": {
        "id": "DlRtAQXHHV2N"
      },
      "source": [
        "# Criando um dataset do campeonato brasileiro de 2007\n",
        "dataset_brasileirao_2007 = dataset_brasileirao[filtro1 & filtro2]"
      ],
      "execution_count": 15,
      "outputs": []
    },
    {
      "cell_type": "code",
      "metadata": {
        "id": "uCa32tcAJ5yS",
        "colab": {
          "base_uri": "https://localhost:8080/",
          "height": 306
        },
        "outputId": "d9b3d99e-cde5-4184-98bc-61b132f3acaf"
      },
      "source": [
        "dataset_brasileirao_2007.head()"
      ],
      "execution_count": 16,
      "outputs": [
        {
          "output_type": "execute_result",
          "data": {
            "text/html": [
              "<div>\n",
              "<style scoped>\n",
              "    .dataframe tbody tr th:only-of-type {\n",
              "        vertical-align: middle;\n",
              "    }\n",
              "\n",
              "    .dataframe tbody tr th {\n",
              "        vertical-align: top;\n",
              "    }\n",
              "\n",
              "    .dataframe thead th {\n",
              "        text-align: right;\n",
              "    }\n",
              "</style>\n",
              "<table border=\"1\" class=\"dataframe\">\n",
              "  <thead>\n",
              "    <tr style=\"text-align: right;\">\n",
              "      <th></th>\n",
              "      <th>ID</th>\n",
              "      <th>Rodada</th>\n",
              "      <th>Data</th>\n",
              "      <th>Horário</th>\n",
              "      <th>Dia</th>\n",
              "      <th>Mandante</th>\n",
              "      <th>Visitante</th>\n",
              "      <th>Vencedor</th>\n",
              "      <th>Arena</th>\n",
              "      <th>Mandante Placar</th>\n",
              "      <th>Visitante Placar</th>\n",
              "      <th>Estado Mandante</th>\n",
              "      <th>Estado Visitante</th>\n",
              "      <th>Estado Vencedor</th>\n",
              "    </tr>\n",
              "  </thead>\n",
              "  <tbody>\n",
              "    <tr>\n",
              "      <th>2999</th>\n",
              "      <td>3000</td>\n",
              "      <td>1</td>\n",
              "      <td>2007-05-12</td>\n",
              "      <td>18h10</td>\n",
              "      <td>Sábado</td>\n",
              "      <td>Fluminense</td>\n",
              "      <td>Cruzeiro</td>\n",
              "      <td>-</td>\n",
              "      <td>Maracanã</td>\n",
              "      <td>2</td>\n",
              "      <td>2</td>\n",
              "      <td>RJ</td>\n",
              "      <td>MG</td>\n",
              "      <td>-</td>\n",
              "    </tr>\n",
              "    <tr>\n",
              "      <th>3000</th>\n",
              "      <td>3001</td>\n",
              "      <td>1</td>\n",
              "      <td>2007-05-12</td>\n",
              "      <td>18h10</td>\n",
              "      <td>Sábado</td>\n",
              "      <td>Figueirense</td>\n",
              "      <td>Athlético-PR</td>\n",
              "      <td>Athlético-PR</td>\n",
              "      <td>Orlando Scarpelli</td>\n",
              "      <td>3</td>\n",
              "      <td>6</td>\n",
              "      <td>SC</td>\n",
              "      <td>PR</td>\n",
              "      <td>PR</td>\n",
              "    </tr>\n",
              "    <tr>\n",
              "      <th>3001</th>\n",
              "      <td>3002</td>\n",
              "      <td>1</td>\n",
              "      <td>2007-05-12</td>\n",
              "      <td>18h10</td>\n",
              "      <td>Sábado</td>\n",
              "      <td>São Paulo</td>\n",
              "      <td>Goiás</td>\n",
              "      <td>São Paulo</td>\n",
              "      <td>Morumbi</td>\n",
              "      <td>2</td>\n",
              "      <td>0</td>\n",
              "      <td>SP</td>\n",
              "      <td>GO</td>\n",
              "      <td>SP</td>\n",
              "    </tr>\n",
              "    <tr>\n",
              "      <th>3002</th>\n",
              "      <td>3003</td>\n",
              "      <td>1</td>\n",
              "      <td>2007-05-13</td>\n",
              "      <td>16h00</td>\n",
              "      <td>Domingo</td>\n",
              "      <td>Atlético-MG</td>\n",
              "      <td>Náutico</td>\n",
              "      <td>Atlético-MG</td>\n",
              "      <td>Mineirão</td>\n",
              "      <td>2</td>\n",
              "      <td>1</td>\n",
              "      <td>MG</td>\n",
              "      <td>PE</td>\n",
              "      <td>MG</td>\n",
              "    </tr>\n",
              "    <tr>\n",
              "      <th>3003</th>\n",
              "      <td>3004</td>\n",
              "      <td>1</td>\n",
              "      <td>2007-05-13</td>\n",
              "      <td>16h00</td>\n",
              "      <td>Domingo</td>\n",
              "      <td>Internacional</td>\n",
              "      <td>Botafogo-RJ</td>\n",
              "      <td>Botafogo-RJ</td>\n",
              "      <td>Beira Rio</td>\n",
              "      <td>2</td>\n",
              "      <td>3</td>\n",
              "      <td>RS</td>\n",
              "      <td>RJ</td>\n",
              "      <td>RJ</td>\n",
              "    </tr>\n",
              "  </tbody>\n",
              "</table>\n",
              "</div>"
            ],
            "text/plain": [
              "        ID Rodada       Data  ... Estado Mandante Estado Visitante Estado Vencedor\n",
              "2999  3000      1 2007-05-12  ...              RJ               MG               -\n",
              "3000  3001      1 2007-05-12  ...              SC               PR              PR\n",
              "3001  3002      1 2007-05-12  ...              SP               GO              SP\n",
              "3002  3003      1 2007-05-13  ...              MG               PE              MG\n",
              "3003  3004      1 2007-05-13  ...              RS               RJ              RJ\n",
              "\n",
              "[5 rows x 14 columns]"
            ]
          },
          "metadata": {
            "tags": []
          },
          "execution_count": 16
        }
      ]
    },
    {
      "cell_type": "markdown",
      "metadata": {
        "id": "28PbFP42VL4Z"
      },
      "source": [
        "* Agora que temos o dataset do campeonato brasileiro de 2007, vamos começar nossa análise"
      ]
    },
    {
      "cell_type": "code",
      "metadata": {
        "id": "LJ-qbpHkWWqH"
      },
      "source": [
        "# Filtar e criar um dataset com todos os jogos do Botafogo no Brasileirão 2007\n",
        "jogos_botafogo = dataset_brasileirao_2007.loc[(dataset_brasileirao_2007['Mandante'] == 'Botafogo-RJ') | (dataset_brasileirao_2007['Visitante'] == 'Botafogo-RJ')]"
      ],
      "execution_count": 17,
      "outputs": []
    },
    {
      "cell_type": "code",
      "metadata": {
        "colab": {
          "base_uri": "https://localhost:8080/",
          "height": 306
        },
        "id": "7E08zRPJzbm3",
        "outputId": "b5d99f1a-ed8a-4732-f8ec-e6106071360c"
      },
      "source": [
        "jogos_botafogo.head()"
      ],
      "execution_count": 18,
      "outputs": [
        {
          "output_type": "execute_result",
          "data": {
            "text/html": [
              "<div>\n",
              "<style scoped>\n",
              "    .dataframe tbody tr th:only-of-type {\n",
              "        vertical-align: middle;\n",
              "    }\n",
              "\n",
              "    .dataframe tbody tr th {\n",
              "        vertical-align: top;\n",
              "    }\n",
              "\n",
              "    .dataframe thead th {\n",
              "        text-align: right;\n",
              "    }\n",
              "</style>\n",
              "<table border=\"1\" class=\"dataframe\">\n",
              "  <thead>\n",
              "    <tr style=\"text-align: right;\">\n",
              "      <th></th>\n",
              "      <th>ID</th>\n",
              "      <th>Rodada</th>\n",
              "      <th>Data</th>\n",
              "      <th>Horário</th>\n",
              "      <th>Dia</th>\n",
              "      <th>Mandante</th>\n",
              "      <th>Visitante</th>\n",
              "      <th>Vencedor</th>\n",
              "      <th>Arena</th>\n",
              "      <th>Mandante Placar</th>\n",
              "      <th>Visitante Placar</th>\n",
              "      <th>Estado Mandante</th>\n",
              "      <th>Estado Visitante</th>\n",
              "      <th>Estado Vencedor</th>\n",
              "    </tr>\n",
              "  </thead>\n",
              "  <tbody>\n",
              "    <tr>\n",
              "      <th>3003</th>\n",
              "      <td>3004</td>\n",
              "      <td>1</td>\n",
              "      <td>2007-05-13</td>\n",
              "      <td>16h00</td>\n",
              "      <td>Domingo</td>\n",
              "      <td>Internacional</td>\n",
              "      <td>Botafogo-RJ</td>\n",
              "      <td>Botafogo-RJ</td>\n",
              "      <td>Beira Rio</td>\n",
              "      <td>2</td>\n",
              "      <td>3</td>\n",
              "      <td>RS</td>\n",
              "      <td>RJ</td>\n",
              "      <td>RJ</td>\n",
              "    </tr>\n",
              "    <tr>\n",
              "      <th>3010</th>\n",
              "      <td>3011</td>\n",
              "      <td>2</td>\n",
              "      <td>2007-05-17</td>\n",
              "      <td>18h10</td>\n",
              "      <td>Sábado</td>\n",
              "      <td>Cruzeiro</td>\n",
              "      <td>Botafogo-RJ</td>\n",
              "      <td>Cruzeiro</td>\n",
              "      <td>Mineirão</td>\n",
              "      <td>1</td>\n",
              "      <td>0</td>\n",
              "      <td>MG</td>\n",
              "      <td>RJ</td>\n",
              "      <td>MG</td>\n",
              "    </tr>\n",
              "    <tr>\n",
              "      <th>3015</th>\n",
              "      <td>3016</td>\n",
              "      <td>2</td>\n",
              "      <td>2007-05-20</td>\n",
              "      <td>16h00</td>\n",
              "      <td>Domingo</td>\n",
              "      <td>Botafogo-RJ</td>\n",
              "      <td>Atlético-MG</td>\n",
              "      <td>Botafogo-RJ</td>\n",
              "      <td>Maracanã</td>\n",
              "      <td>2</td>\n",
              "      <td>1</td>\n",
              "      <td>RJ</td>\n",
              "      <td>MG</td>\n",
              "      <td>RJ</td>\n",
              "    </tr>\n",
              "    <tr>\n",
              "      <th>3025</th>\n",
              "      <td>3026</td>\n",
              "      <td>3</td>\n",
              "      <td>2007-05-27</td>\n",
              "      <td>18h10</td>\n",
              "      <td>Domingo</td>\n",
              "      <td>Flamengo</td>\n",
              "      <td>Botafogo-RJ</td>\n",
              "      <td>-</td>\n",
              "      <td>Maracanã</td>\n",
              "      <td>2</td>\n",
              "      <td>2</td>\n",
              "      <td>RJ</td>\n",
              "      <td>RJ</td>\n",
              "      <td>-</td>\n",
              "    </tr>\n",
              "    <tr>\n",
              "      <th>3033</th>\n",
              "      <td>3034</td>\n",
              "      <td>4</td>\n",
              "      <td>2007-06-02</td>\n",
              "      <td>18h10</td>\n",
              "      <td>Sábado</td>\n",
              "      <td>Botafogo-RJ</td>\n",
              "      <td>Grêmio</td>\n",
              "      <td>Botafogo-RJ</td>\n",
              "      <td>Maracanã</td>\n",
              "      <td>3</td>\n",
              "      <td>0</td>\n",
              "      <td>RJ</td>\n",
              "      <td>RS</td>\n",
              "      <td>RJ</td>\n",
              "    </tr>\n",
              "  </tbody>\n",
              "</table>\n",
              "</div>"
            ],
            "text/plain": [
              "        ID Rodada       Data  ... Estado Mandante Estado Visitante Estado Vencedor\n",
              "3003  3004      1 2007-05-13  ...              RS               RJ              RJ\n",
              "3010  3011      2 2007-05-17  ...              MG               RJ              MG\n",
              "3015  3016      2 2007-05-20  ...              RJ               MG              RJ\n",
              "3025  3026      3 2007-05-27  ...              RJ               RJ               -\n",
              "3033  3034      4 2007-06-02  ...              RJ               RS              RJ\n",
              "\n",
              "[5 rows x 14 columns]"
            ]
          },
          "metadata": {
            "tags": []
          },
          "execution_count": 18
        }
      ]
    },
    {
      "cell_type": "code",
      "metadata": {
        "id": "o3XDdgxiziBl"
      },
      "source": [
        "# Remover index\n",
        "jogos_botafogo.reset_index(drop=True, inplace=True)"
      ],
      "execution_count": 19,
      "outputs": []
    },
    {
      "cell_type": "code",
      "metadata": {
        "colab": {
          "base_uri": "https://localhost:8080/"
        },
        "id": "kFsCSBb5z4pM",
        "outputId": "c395a4ef-9d58-4d7e-f823-8626b96c49fd"
      },
      "source": [
        "# Remover coluna ID\n",
        "jogos_botafogo.drop(columns='ID', inplace=True)"
      ],
      "execution_count": 20,
      "outputs": [
        {
          "output_type": "stream",
          "text": [
            "/usr/local/lib/python3.7/dist-packages/pandas/core/frame.py:4174: SettingWithCopyWarning: \n",
            "A value is trying to be set on a copy of a slice from a DataFrame\n",
            "\n",
            "See the caveats in the documentation: https://pandas.pydata.org/pandas-docs/stable/user_guide/indexing.html#returning-a-view-versus-a-copy\n",
            "  errors=errors,\n"
          ],
          "name": "stderr"
        }
      ]
    },
    {
      "cell_type": "code",
      "metadata": {
        "colab": {
          "base_uri": "https://localhost:8080/",
          "height": 306
        },
        "id": "BkthNzCNw-kD",
        "outputId": "476b56ff-b3a7-42e5-904a-c36c9912cff7"
      },
      "source": [
        "# Dataset com colunas removidas\n",
        "jogos_botafogo.head()"
      ],
      "execution_count": 21,
      "outputs": [
        {
          "output_type": "execute_result",
          "data": {
            "text/html": [
              "<div>\n",
              "<style scoped>\n",
              "    .dataframe tbody tr th:only-of-type {\n",
              "        vertical-align: middle;\n",
              "    }\n",
              "\n",
              "    .dataframe tbody tr th {\n",
              "        vertical-align: top;\n",
              "    }\n",
              "\n",
              "    .dataframe thead th {\n",
              "        text-align: right;\n",
              "    }\n",
              "</style>\n",
              "<table border=\"1\" class=\"dataframe\">\n",
              "  <thead>\n",
              "    <tr style=\"text-align: right;\">\n",
              "      <th></th>\n",
              "      <th>Rodada</th>\n",
              "      <th>Data</th>\n",
              "      <th>Horário</th>\n",
              "      <th>Dia</th>\n",
              "      <th>Mandante</th>\n",
              "      <th>Visitante</th>\n",
              "      <th>Vencedor</th>\n",
              "      <th>Arena</th>\n",
              "      <th>Mandante Placar</th>\n",
              "      <th>Visitante Placar</th>\n",
              "      <th>Estado Mandante</th>\n",
              "      <th>Estado Visitante</th>\n",
              "      <th>Estado Vencedor</th>\n",
              "    </tr>\n",
              "  </thead>\n",
              "  <tbody>\n",
              "    <tr>\n",
              "      <th>0</th>\n",
              "      <td>1</td>\n",
              "      <td>2007-05-13</td>\n",
              "      <td>16h00</td>\n",
              "      <td>Domingo</td>\n",
              "      <td>Internacional</td>\n",
              "      <td>Botafogo-RJ</td>\n",
              "      <td>Botafogo-RJ</td>\n",
              "      <td>Beira Rio</td>\n",
              "      <td>2</td>\n",
              "      <td>3</td>\n",
              "      <td>RS</td>\n",
              "      <td>RJ</td>\n",
              "      <td>RJ</td>\n",
              "    </tr>\n",
              "    <tr>\n",
              "      <th>1</th>\n",
              "      <td>2</td>\n",
              "      <td>2007-05-17</td>\n",
              "      <td>18h10</td>\n",
              "      <td>Sábado</td>\n",
              "      <td>Cruzeiro</td>\n",
              "      <td>Botafogo-RJ</td>\n",
              "      <td>Cruzeiro</td>\n",
              "      <td>Mineirão</td>\n",
              "      <td>1</td>\n",
              "      <td>0</td>\n",
              "      <td>MG</td>\n",
              "      <td>RJ</td>\n",
              "      <td>MG</td>\n",
              "    </tr>\n",
              "    <tr>\n",
              "      <th>2</th>\n",
              "      <td>2</td>\n",
              "      <td>2007-05-20</td>\n",
              "      <td>16h00</td>\n",
              "      <td>Domingo</td>\n",
              "      <td>Botafogo-RJ</td>\n",
              "      <td>Atlético-MG</td>\n",
              "      <td>Botafogo-RJ</td>\n",
              "      <td>Maracanã</td>\n",
              "      <td>2</td>\n",
              "      <td>1</td>\n",
              "      <td>RJ</td>\n",
              "      <td>MG</td>\n",
              "      <td>RJ</td>\n",
              "    </tr>\n",
              "    <tr>\n",
              "      <th>3</th>\n",
              "      <td>3</td>\n",
              "      <td>2007-05-27</td>\n",
              "      <td>18h10</td>\n",
              "      <td>Domingo</td>\n",
              "      <td>Flamengo</td>\n",
              "      <td>Botafogo-RJ</td>\n",
              "      <td>-</td>\n",
              "      <td>Maracanã</td>\n",
              "      <td>2</td>\n",
              "      <td>2</td>\n",
              "      <td>RJ</td>\n",
              "      <td>RJ</td>\n",
              "      <td>-</td>\n",
              "    </tr>\n",
              "    <tr>\n",
              "      <th>4</th>\n",
              "      <td>4</td>\n",
              "      <td>2007-06-02</td>\n",
              "      <td>18h10</td>\n",
              "      <td>Sábado</td>\n",
              "      <td>Botafogo-RJ</td>\n",
              "      <td>Grêmio</td>\n",
              "      <td>Botafogo-RJ</td>\n",
              "      <td>Maracanã</td>\n",
              "      <td>3</td>\n",
              "      <td>0</td>\n",
              "      <td>RJ</td>\n",
              "      <td>RS</td>\n",
              "      <td>RJ</td>\n",
              "    </tr>\n",
              "  </tbody>\n",
              "</table>\n",
              "</div>"
            ],
            "text/plain": [
              "  Rodada       Data Horário  ... Estado Mandante Estado Visitante Estado Vencedor\n",
              "0      1 2007-05-13   16h00  ...              RS               RJ              RJ\n",
              "1      2 2007-05-17   18h10  ...              MG               RJ              MG\n",
              "2      2 2007-05-20   16h00  ...              RJ               MG              RJ\n",
              "3      3 2007-05-27   18h10  ...              RJ               RJ               -\n",
              "4      4 2007-06-02   18h10  ...              RJ               RS              RJ\n",
              "\n",
              "[5 rows x 13 columns]"
            ]
          },
          "metadata": {
            "tags": []
          },
          "execution_count": 21
        }
      ]
    },
    {
      "cell_type": "code",
      "metadata": {
        "colab": {
          "base_uri": "https://localhost:8080/"
        },
        "id": "HiRSSJSBz1yL",
        "outputId": "26cd5b96-8353-4a28-964d-713644d9ad56"
      },
      "source": [
        "#Quantidade de jogos do Botafogo\n",
        "jogos_botafogo.count()"
      ],
      "execution_count": 22,
      "outputs": [
        {
          "output_type": "execute_result",
          "data": {
            "text/plain": [
              "Rodada              39\n",
              "Data                39\n",
              "Horário             38\n",
              "Dia                 39\n",
              "Mandante            39\n",
              "Visitante           39\n",
              "Vencedor            39\n",
              "Arena               39\n",
              "Mandante Placar     39\n",
              "Visitante Placar    39\n",
              "Estado Mandante     39\n",
              "Estado Visitante    39\n",
              "Estado Vencedor     39\n",
              "dtype: int64"
            ]
          },
          "metadata": {
            "tags": []
          },
          "execution_count": 22
        }
      ]
    },
    {
      "cell_type": "markdown",
      "metadata": {
        "id": "VBxvO_DLEgs5"
      },
      "source": [
        "* Acima podemos ver que que quantidade de jogos é 39, porém o campeonato brasileiro possui 38 rodadas. Vamos analisar o dataset para descobrir esse jogo a mais na tabela.\n",
        "* Outra coisa observada é que na coluna horário possui 38 valores."
      ]
    },
    {
      "cell_type": "code",
      "metadata": {
        "colab": {
          "base_uri": "https://localhost:8080/",
          "height": 1000
        },
        "id": "BejX3ic7EhTr",
        "outputId": "81e68cd9-94e9-4d73-f45a-28df63f7205b"
      },
      "source": [
        "#Ordenando a tabela pela rodada\n",
        "jogos_botafogo.sort_values(by='Rodada')"
      ],
      "execution_count": 23,
      "outputs": [
        {
          "output_type": "execute_result",
          "data": {
            "text/html": [
              "<div>\n",
              "<style scoped>\n",
              "    .dataframe tbody tr th:only-of-type {\n",
              "        vertical-align: middle;\n",
              "    }\n",
              "\n",
              "    .dataframe tbody tr th {\n",
              "        vertical-align: top;\n",
              "    }\n",
              "\n",
              "    .dataframe thead th {\n",
              "        text-align: right;\n",
              "    }\n",
              "</style>\n",
              "<table border=\"1\" class=\"dataframe\">\n",
              "  <thead>\n",
              "    <tr style=\"text-align: right;\">\n",
              "      <th></th>\n",
              "      <th>Rodada</th>\n",
              "      <th>Data</th>\n",
              "      <th>Horário</th>\n",
              "      <th>Dia</th>\n",
              "      <th>Mandante</th>\n",
              "      <th>Visitante</th>\n",
              "      <th>Vencedor</th>\n",
              "      <th>Arena</th>\n",
              "      <th>Mandante Placar</th>\n",
              "      <th>Visitante Placar</th>\n",
              "      <th>Estado Mandante</th>\n",
              "      <th>Estado Visitante</th>\n",
              "      <th>Estado Vencedor</th>\n",
              "    </tr>\n",
              "  </thead>\n",
              "  <tbody>\n",
              "    <tr>\n",
              "      <th>0</th>\n",
              "      <td>1</td>\n",
              "      <td>2007-05-13</td>\n",
              "      <td>16h00</td>\n",
              "      <td>Domingo</td>\n",
              "      <td>Internacional</td>\n",
              "      <td>Botafogo-RJ</td>\n",
              "      <td>Botafogo-RJ</td>\n",
              "      <td>Beira Rio</td>\n",
              "      <td>2</td>\n",
              "      <td>3</td>\n",
              "      <td>RS</td>\n",
              "      <td>RJ</td>\n",
              "      <td>RJ</td>\n",
              "    </tr>\n",
              "    <tr>\n",
              "      <th>10</th>\n",
              "      <td>10</td>\n",
              "      <td>2007-07-07</td>\n",
              "      <td>18h10</td>\n",
              "      <td>Sábado</td>\n",
              "      <td>Botafogo-RJ</td>\n",
              "      <td>Athlético-PR</td>\n",
              "      <td>Botafogo-RJ</td>\n",
              "      <td>Mané Garrincha</td>\n",
              "      <td>2</td>\n",
              "      <td>0</td>\n",
              "      <td>RJ</td>\n",
              "      <td>PR</td>\n",
              "      <td>RJ</td>\n",
              "    </tr>\n",
              "    <tr>\n",
              "      <th>11</th>\n",
              "      <td>11</td>\n",
              "      <td>2007-07-14</td>\n",
              "      <td>16h00</td>\n",
              "      <td>Sábado</td>\n",
              "      <td>Santos</td>\n",
              "      <td>Botafogo-RJ</td>\n",
              "      <td>Santos</td>\n",
              "      <td>Vila Belmiro</td>\n",
              "      <td>3</td>\n",
              "      <td>0</td>\n",
              "      <td>SP</td>\n",
              "      <td>RJ</td>\n",
              "      <td>SP</td>\n",
              "    </tr>\n",
              "    <tr>\n",
              "      <th>6</th>\n",
              "      <td>12</td>\n",
              "      <td>2007-06-14</td>\n",
              "      <td>20h30</td>\n",
              "      <td>Quinta-feira</td>\n",
              "      <td>Botafogo-RJ</td>\n",
              "      <td>Vasco</td>\n",
              "      <td>Botafogo-RJ</td>\n",
              "      <td>Maracanã</td>\n",
              "      <td>4</td>\n",
              "      <td>0</td>\n",
              "      <td>RJ</td>\n",
              "      <td>RJ</td>\n",
              "      <td>RJ</td>\n",
              "    </tr>\n",
              "    <tr>\n",
              "      <th>13</th>\n",
              "      <td>13</td>\n",
              "      <td>2007-07-22</td>\n",
              "      <td>18h10</td>\n",
              "      <td>Domingo</td>\n",
              "      <td>Sport</td>\n",
              "      <td>Botafogo-RJ</td>\n",
              "      <td>-</td>\n",
              "      <td>Ilha do Retiro</td>\n",
              "      <td>3</td>\n",
              "      <td>3</td>\n",
              "      <td>PE</td>\n",
              "      <td>RJ</td>\n",
              "      <td>-</td>\n",
              "    </tr>\n",
              "    <tr>\n",
              "      <th>12</th>\n",
              "      <td>14</td>\n",
              "      <td>2007-07-19</td>\n",
              "      <td>15h00</td>\n",
              "      <td>Quinta-feira</td>\n",
              "      <td>Botafogo-RJ</td>\n",
              "      <td>Juventude</td>\n",
              "      <td>Botafogo-RJ</td>\n",
              "      <td>Giulite Coutinho</td>\n",
              "      <td>3</td>\n",
              "      <td>1</td>\n",
              "      <td>RJ</td>\n",
              "      <td>RS</td>\n",
              "      <td>RJ</td>\n",
              "    </tr>\n",
              "    <tr>\n",
              "      <th>14</th>\n",
              "      <td>15</td>\n",
              "      <td>2007-07-29</td>\n",
              "      <td>18h10</td>\n",
              "      <td>Domingo</td>\n",
              "      <td>Cruzeiro</td>\n",
              "      <td>Botafogo-RJ</td>\n",
              "      <td>Cruzeiro</td>\n",
              "      <td>Mineirão</td>\n",
              "      <td>3</td>\n",
              "      <td>2</td>\n",
              "      <td>MG</td>\n",
              "      <td>RJ</td>\n",
              "      <td>MG</td>\n",
              "    </tr>\n",
              "    <tr>\n",
              "      <th>15</th>\n",
              "      <td>16</td>\n",
              "      <td>2007-08-01</td>\n",
              "      <td>20h30</td>\n",
              "      <td>Quarta-feira</td>\n",
              "      <td>Botafogo-RJ</td>\n",
              "      <td>América-RN</td>\n",
              "      <td>Botafogo-RJ</td>\n",
              "      <td>Engenheiro Araripe</td>\n",
              "      <td>4</td>\n",
              "      <td>2</td>\n",
              "      <td>RJ</td>\n",
              "      <td>RN</td>\n",
              "      <td>RJ</td>\n",
              "    </tr>\n",
              "    <tr>\n",
              "      <th>16</th>\n",
              "      <td>17</td>\n",
              "      <td>2007-08-05</td>\n",
              "      <td>18h10</td>\n",
              "      <td>Domingo</td>\n",
              "      <td>Paraná</td>\n",
              "      <td>Botafogo-RJ</td>\n",
              "      <td>-</td>\n",
              "      <td>Durival de Brito</td>\n",
              "      <td>0</td>\n",
              "      <td>0</td>\n",
              "      <td>PR</td>\n",
              "      <td>RJ</td>\n",
              "      <td>-</td>\n",
              "    </tr>\n",
              "    <tr>\n",
              "      <th>17</th>\n",
              "      <td>18</td>\n",
              "      <td>2007-08-08</td>\n",
              "      <td>21h45</td>\n",
              "      <td>Quarta-feira</td>\n",
              "      <td>Botafogo-RJ</td>\n",
              "      <td>São Paulo</td>\n",
              "      <td>São Paulo</td>\n",
              "      <td>Maracanã</td>\n",
              "      <td>0</td>\n",
              "      <td>2</td>\n",
              "      <td>RJ</td>\n",
              "      <td>SP</td>\n",
              "      <td>SP</td>\n",
              "    </tr>\n",
              "    <tr>\n",
              "      <th>18</th>\n",
              "      <td>19</td>\n",
              "      <td>2007-08-12</td>\n",
              "      <td>16h00</td>\n",
              "      <td>Domingo</td>\n",
              "      <td>Figueirense</td>\n",
              "      <td>Botafogo-RJ</td>\n",
              "      <td>-</td>\n",
              "      <td>Orlando Scarpelli</td>\n",
              "      <td>1</td>\n",
              "      <td>1</td>\n",
              "      <td>SC</td>\n",
              "      <td>RJ</td>\n",
              "      <td>-</td>\n",
              "    </tr>\n",
              "    <tr>\n",
              "      <th>2</th>\n",
              "      <td>2</td>\n",
              "      <td>2007-05-20</td>\n",
              "      <td>16h00</td>\n",
              "      <td>Domingo</td>\n",
              "      <td>Botafogo-RJ</td>\n",
              "      <td>Atlético-MG</td>\n",
              "      <td>Botafogo-RJ</td>\n",
              "      <td>Maracanã</td>\n",
              "      <td>2</td>\n",
              "      <td>1</td>\n",
              "      <td>RJ</td>\n",
              "      <td>MG</td>\n",
              "      <td>RJ</td>\n",
              "    </tr>\n",
              "    <tr>\n",
              "      <th>1</th>\n",
              "      <td>2</td>\n",
              "      <td>2007-05-17</td>\n",
              "      <td>18h10</td>\n",
              "      <td>Sábado</td>\n",
              "      <td>Cruzeiro</td>\n",
              "      <td>Botafogo-RJ</td>\n",
              "      <td>Cruzeiro</td>\n",
              "      <td>Mineirão</td>\n",
              "      <td>1</td>\n",
              "      <td>0</td>\n",
              "      <td>MG</td>\n",
              "      <td>RJ</td>\n",
              "      <td>MG</td>\n",
              "    </tr>\n",
              "    <tr>\n",
              "      <th>20</th>\n",
              "      <td>20</td>\n",
              "      <td>2007-08-19</td>\n",
              "      <td>18h10</td>\n",
              "      <td>Domingo</td>\n",
              "      <td>Botafogo-RJ</td>\n",
              "      <td>Internacional</td>\n",
              "      <td>-</td>\n",
              "      <td>Maracanã</td>\n",
              "      <td>1</td>\n",
              "      <td>1</td>\n",
              "      <td>RJ</td>\n",
              "      <td>RS</td>\n",
              "      <td>-</td>\n",
              "    </tr>\n",
              "    <tr>\n",
              "      <th>21</th>\n",
              "      <td>21</td>\n",
              "      <td>2007-08-26</td>\n",
              "      <td>16h00</td>\n",
              "      <td>Domingo</td>\n",
              "      <td>Atlético-MG</td>\n",
              "      <td>Botafogo-RJ</td>\n",
              "      <td>Botafogo-RJ</td>\n",
              "      <td>Mineirão</td>\n",
              "      <td>1</td>\n",
              "      <td>2</td>\n",
              "      <td>MG</td>\n",
              "      <td>RJ</td>\n",
              "      <td>RJ</td>\n",
              "    </tr>\n",
              "    <tr>\n",
              "      <th>22</th>\n",
              "      <td>22</td>\n",
              "      <td>2007-08-29</td>\n",
              "      <td>20h30</td>\n",
              "      <td>Quarta-feira</td>\n",
              "      <td>Botafogo-RJ</td>\n",
              "      <td>Flamengo</td>\n",
              "      <td>-</td>\n",
              "      <td>Maracanã</td>\n",
              "      <td>1</td>\n",
              "      <td>1</td>\n",
              "      <td>RJ</td>\n",
              "      <td>RJ</td>\n",
              "      <td>-</td>\n",
              "    </tr>\n",
              "    <tr>\n",
              "      <th>23</th>\n",
              "      <td>23</td>\n",
              "      <td>2007-09-02</td>\n",
              "      <td>16h00</td>\n",
              "      <td>Domingo</td>\n",
              "      <td>Grêmio</td>\n",
              "      <td>Botafogo-RJ</td>\n",
              "      <td>Grêmio</td>\n",
              "      <td>Olímpico Monumental</td>\n",
              "      <td>3</td>\n",
              "      <td>0</td>\n",
              "      <td>RS</td>\n",
              "      <td>RJ</td>\n",
              "      <td>RS</td>\n",
              "    </tr>\n",
              "    <tr>\n",
              "      <th>24</th>\n",
              "      <td>24</td>\n",
              "      <td>2007-09-06</td>\n",
              "      <td>20h30</td>\n",
              "      <td>Quinta-feira</td>\n",
              "      <td>Botafogo-RJ</td>\n",
              "      <td>Palmeiras</td>\n",
              "      <td>-</td>\n",
              "      <td>Maracanã</td>\n",
              "      <td>1</td>\n",
              "      <td>1</td>\n",
              "      <td>RJ</td>\n",
              "      <td>SP</td>\n",
              "      <td>-</td>\n",
              "    </tr>\n",
              "    <tr>\n",
              "      <th>25</th>\n",
              "      <td>25</td>\n",
              "      <td>2007-09-09</td>\n",
              "      <td>NaN</td>\n",
              "      <td>Domingo</td>\n",
              "      <td>Náutico</td>\n",
              "      <td>Botafogo-RJ</td>\n",
              "      <td>Náutico</td>\n",
              "      <td>Aflitos</td>\n",
              "      <td>4</td>\n",
              "      <td>1</td>\n",
              "      <td>PE</td>\n",
              "      <td>RJ</td>\n",
              "      <td>PE</td>\n",
              "    </tr>\n",
              "    <tr>\n",
              "      <th>26</th>\n",
              "      <td>26</td>\n",
              "      <td>2007-09-16</td>\n",
              "      <td>16h00</td>\n",
              "      <td>Domingo</td>\n",
              "      <td>Corinthians</td>\n",
              "      <td>Botafogo-RJ</td>\n",
              "      <td>Botafogo-RJ</td>\n",
              "      <td>Pacaembu</td>\n",
              "      <td>0</td>\n",
              "      <td>1</td>\n",
              "      <td>SP</td>\n",
              "      <td>RJ</td>\n",
              "      <td>RJ</td>\n",
              "    </tr>\n",
              "    <tr>\n",
              "      <th>27</th>\n",
              "      <td>27</td>\n",
              "      <td>2007-09-23</td>\n",
              "      <td>18h10</td>\n",
              "      <td>Domingo</td>\n",
              "      <td>Botafogo-RJ</td>\n",
              "      <td>Fluminense</td>\n",
              "      <td>Fluminense</td>\n",
              "      <td>Maracanã</td>\n",
              "      <td>0</td>\n",
              "      <td>2</td>\n",
              "      <td>RJ</td>\n",
              "      <td>RJ</td>\n",
              "      <td>RJ</td>\n",
              "    </tr>\n",
              "    <tr>\n",
              "      <th>28</th>\n",
              "      <td>28</td>\n",
              "      <td>2007-09-30</td>\n",
              "      <td>16h00</td>\n",
              "      <td>Domingo</td>\n",
              "      <td>Botafogo-RJ</td>\n",
              "      <td>Goiás</td>\n",
              "      <td>Goiás</td>\n",
              "      <td>Maracanã</td>\n",
              "      <td>0</td>\n",
              "      <td>3</td>\n",
              "      <td>RJ</td>\n",
              "      <td>GO</td>\n",
              "      <td>GO</td>\n",
              "    </tr>\n",
              "    <tr>\n",
              "      <th>29</th>\n",
              "      <td>29</td>\n",
              "      <td>2007-10-03</td>\n",
              "      <td>21h45</td>\n",
              "      <td>Quarta-feira</td>\n",
              "      <td>Athlético-PR</td>\n",
              "      <td>Botafogo-RJ</td>\n",
              "      <td>Athlético-PR</td>\n",
              "      <td>Kyocera Arena</td>\n",
              "      <td>2</td>\n",
              "      <td>0</td>\n",
              "      <td>PR</td>\n",
              "      <td>RJ</td>\n",
              "      <td>PR</td>\n",
              "    </tr>\n",
              "    <tr>\n",
              "      <th>3</th>\n",
              "      <td>3</td>\n",
              "      <td>2007-05-27</td>\n",
              "      <td>18h10</td>\n",
              "      <td>Domingo</td>\n",
              "      <td>Flamengo</td>\n",
              "      <td>Botafogo-RJ</td>\n",
              "      <td>-</td>\n",
              "      <td>Maracanã</td>\n",
              "      <td>2</td>\n",
              "      <td>2</td>\n",
              "      <td>RJ</td>\n",
              "      <td>RJ</td>\n",
              "      <td>-</td>\n",
              "    </tr>\n",
              "    <tr>\n",
              "      <th>30</th>\n",
              "      <td>30</td>\n",
              "      <td>2007-10-06</td>\n",
              "      <td>18h10</td>\n",
              "      <td>Sábado</td>\n",
              "      <td>Botafogo-RJ</td>\n",
              "      <td>Santos</td>\n",
              "      <td>Santos</td>\n",
              "      <td>Engenhão</td>\n",
              "      <td>1</td>\n",
              "      <td>2</td>\n",
              "      <td>RJ</td>\n",
              "      <td>SP</td>\n",
              "      <td>SP</td>\n",
              "    </tr>\n",
              "    <tr>\n",
              "      <th>31</th>\n",
              "      <td>31</td>\n",
              "      <td>2007-10-14</td>\n",
              "      <td>16h00</td>\n",
              "      <td>Domingo</td>\n",
              "      <td>Vasco</td>\n",
              "      <td>Botafogo-RJ</td>\n",
              "      <td>Vasco</td>\n",
              "      <td>Maracanã</td>\n",
              "      <td>2</td>\n",
              "      <td>1</td>\n",
              "      <td>RJ</td>\n",
              "      <td>RJ</td>\n",
              "      <td>RJ</td>\n",
              "    </tr>\n",
              "    <tr>\n",
              "      <th>32</th>\n",
              "      <td>32</td>\n",
              "      <td>2007-10-20</td>\n",
              "      <td>18h10</td>\n",
              "      <td>Sábado</td>\n",
              "      <td>Botafogo-RJ</td>\n",
              "      <td>Sport</td>\n",
              "      <td>Botafogo-RJ</td>\n",
              "      <td>Engenhão</td>\n",
              "      <td>3</td>\n",
              "      <td>1</td>\n",
              "      <td>RJ</td>\n",
              "      <td>PE</td>\n",
              "      <td>RJ</td>\n",
              "    </tr>\n",
              "    <tr>\n",
              "      <th>33</th>\n",
              "      <td>33</td>\n",
              "      <td>2007-10-28</td>\n",
              "      <td>18h10</td>\n",
              "      <td>Domingo</td>\n",
              "      <td>Juventude</td>\n",
              "      <td>Botafogo-RJ</td>\n",
              "      <td>-</td>\n",
              "      <td>Alfredo Jaconi</td>\n",
              "      <td>1</td>\n",
              "      <td>1</td>\n",
              "      <td>RS</td>\n",
              "      <td>RJ</td>\n",
              "      <td>-</td>\n",
              "    </tr>\n",
              "    <tr>\n",
              "      <th>34</th>\n",
              "      <td>34</td>\n",
              "      <td>2007-11-01</td>\n",
              "      <td>20h30</td>\n",
              "      <td>Quinta-feira</td>\n",
              "      <td>Botafogo-RJ</td>\n",
              "      <td>Cruzeiro</td>\n",
              "      <td>Botafogo-RJ</td>\n",
              "      <td>Engenhão</td>\n",
              "      <td>4</td>\n",
              "      <td>1</td>\n",
              "      <td>RJ</td>\n",
              "      <td>MG</td>\n",
              "      <td>RJ</td>\n",
              "    </tr>\n",
              "    <tr>\n",
              "      <th>35</th>\n",
              "      <td>35</td>\n",
              "      <td>2007-11-04</td>\n",
              "      <td>18h10</td>\n",
              "      <td>Domingo</td>\n",
              "      <td>América-RN</td>\n",
              "      <td>Botafogo-RJ</td>\n",
              "      <td>-</td>\n",
              "      <td>Machadão</td>\n",
              "      <td>1</td>\n",
              "      <td>1</td>\n",
              "      <td>RN</td>\n",
              "      <td>RJ</td>\n",
              "      <td>-</td>\n",
              "    </tr>\n",
              "    <tr>\n",
              "      <th>36</th>\n",
              "      <td>36</td>\n",
              "      <td>2007-11-10</td>\n",
              "      <td>18h10</td>\n",
              "      <td>Sábado</td>\n",
              "      <td>Botafogo-RJ</td>\n",
              "      <td>Paraná</td>\n",
              "      <td>Botafogo-RJ</td>\n",
              "      <td>Maracanã</td>\n",
              "      <td>3</td>\n",
              "      <td>2</td>\n",
              "      <td>RJ</td>\n",
              "      <td>PR</td>\n",
              "      <td>RJ</td>\n",
              "    </tr>\n",
              "    <tr>\n",
              "      <th>37</th>\n",
              "      <td>37</td>\n",
              "      <td>2007-11-25</td>\n",
              "      <td>16h00</td>\n",
              "      <td>Domingo</td>\n",
              "      <td>São Paulo</td>\n",
              "      <td>Botafogo-RJ</td>\n",
              "      <td>-</td>\n",
              "      <td>Morumbi</td>\n",
              "      <td>2</td>\n",
              "      <td>2</td>\n",
              "      <td>SP</td>\n",
              "      <td>RJ</td>\n",
              "      <td>-</td>\n",
              "    </tr>\n",
              "    <tr>\n",
              "      <th>38</th>\n",
              "      <td>38</td>\n",
              "      <td>2007-12-02</td>\n",
              "      <td>16h00</td>\n",
              "      <td>Domingo</td>\n",
              "      <td>Botafogo-RJ</td>\n",
              "      <td>Figueirense</td>\n",
              "      <td>-</td>\n",
              "      <td>Engenhão</td>\n",
              "      <td>1</td>\n",
              "      <td>1</td>\n",
              "      <td>RJ</td>\n",
              "      <td>SC</td>\n",
              "      <td>-</td>\n",
              "    </tr>\n",
              "    <tr>\n",
              "      <th>4</th>\n",
              "      <td>4</td>\n",
              "      <td>2007-06-02</td>\n",
              "      <td>18h10</td>\n",
              "      <td>Sábado</td>\n",
              "      <td>Botafogo-RJ</td>\n",
              "      <td>Grêmio</td>\n",
              "      <td>Botafogo-RJ</td>\n",
              "      <td>Maracanã</td>\n",
              "      <td>3</td>\n",
              "      <td>0</td>\n",
              "      <td>RJ</td>\n",
              "      <td>RS</td>\n",
              "      <td>RJ</td>\n",
              "    </tr>\n",
              "    <tr>\n",
              "      <th>5</th>\n",
              "      <td>5</td>\n",
              "      <td>2007-06-09</td>\n",
              "      <td>18h10</td>\n",
              "      <td>Sábado</td>\n",
              "      <td>Palmeiras</td>\n",
              "      <td>Botafogo-RJ</td>\n",
              "      <td>-</td>\n",
              "      <td>Parque Antártica</td>\n",
              "      <td>1</td>\n",
              "      <td>1</td>\n",
              "      <td>SP</td>\n",
              "      <td>RJ</td>\n",
              "      <td>-</td>\n",
              "    </tr>\n",
              "    <tr>\n",
              "      <th>7</th>\n",
              "      <td>6</td>\n",
              "      <td>2007-06-17</td>\n",
              "      <td>18h10</td>\n",
              "      <td>Domingo</td>\n",
              "      <td>Botafogo-RJ</td>\n",
              "      <td>Náutico</td>\n",
              "      <td>Botafogo-RJ</td>\n",
              "      <td>Maracanã</td>\n",
              "      <td>3</td>\n",
              "      <td>1</td>\n",
              "      <td>RJ</td>\n",
              "      <td>PE</td>\n",
              "      <td>RJ</td>\n",
              "    </tr>\n",
              "    <tr>\n",
              "      <th>19</th>\n",
              "      <td>7</td>\n",
              "      <td>2007-08-15</td>\n",
              "      <td>21h45</td>\n",
              "      <td>Quarta-feira</td>\n",
              "      <td>Botafogo-RJ</td>\n",
              "      <td>Corinthians</td>\n",
              "      <td>Corinthians</td>\n",
              "      <td>Maracanã</td>\n",
              "      <td>2</td>\n",
              "      <td>3</td>\n",
              "      <td>RJ</td>\n",
              "      <td>SP</td>\n",
              "      <td>SP</td>\n",
              "    </tr>\n",
              "    <tr>\n",
              "      <th>8</th>\n",
              "      <td>8</td>\n",
              "      <td>2007-06-30</td>\n",
              "      <td>18h10</td>\n",
              "      <td>Sábado</td>\n",
              "      <td>Fluminense</td>\n",
              "      <td>Botafogo-RJ</td>\n",
              "      <td>Botafogo-RJ</td>\n",
              "      <td>Engenhão</td>\n",
              "      <td>1</td>\n",
              "      <td>2</td>\n",
              "      <td>RJ</td>\n",
              "      <td>RJ</td>\n",
              "      <td>RJ</td>\n",
              "    </tr>\n",
              "    <tr>\n",
              "      <th>9</th>\n",
              "      <td>9</td>\n",
              "      <td>2007-07-03</td>\n",
              "      <td>21h45</td>\n",
              "      <td>Terça-feira</td>\n",
              "      <td>Goiás</td>\n",
              "      <td>Botafogo-RJ</td>\n",
              "      <td>-</td>\n",
              "      <td>Serra Dourada</td>\n",
              "      <td>1</td>\n",
              "      <td>1</td>\n",
              "      <td>GO</td>\n",
              "      <td>RJ</td>\n",
              "      <td>-</td>\n",
              "    </tr>\n",
              "  </tbody>\n",
              "</table>\n",
              "</div>"
            ],
            "text/plain": [
              "   Rodada       Data Horário  ... Estado Mandante Estado Visitante Estado Vencedor\n",
              "0       1 2007-05-13   16h00  ...              RS               RJ              RJ\n",
              "10     10 2007-07-07   18h10  ...              RJ               PR              RJ\n",
              "11     11 2007-07-14   16h00  ...              SP               RJ              SP\n",
              "6      12 2007-06-14   20h30  ...              RJ               RJ              RJ\n",
              "13     13 2007-07-22   18h10  ...              PE               RJ               -\n",
              "12     14 2007-07-19   15h00  ...              RJ               RS              RJ\n",
              "14     15 2007-07-29   18h10  ...              MG               RJ              MG\n",
              "15     16 2007-08-01   20h30  ...              RJ               RN              RJ\n",
              "16     17 2007-08-05   18h10  ...              PR               RJ               -\n",
              "17     18 2007-08-08   21h45  ...              RJ               SP              SP\n",
              "18     19 2007-08-12   16h00  ...              SC               RJ               -\n",
              "2       2 2007-05-20   16h00  ...              RJ               MG              RJ\n",
              "1       2 2007-05-17   18h10  ...              MG               RJ              MG\n",
              "20     20 2007-08-19   18h10  ...              RJ               RS               -\n",
              "21     21 2007-08-26   16h00  ...              MG               RJ              RJ\n",
              "22     22 2007-08-29   20h30  ...              RJ               RJ               -\n",
              "23     23 2007-09-02   16h00  ...              RS               RJ              RS\n",
              "24     24 2007-09-06   20h30  ...              RJ               SP               -\n",
              "25     25 2007-09-09     NaN  ...              PE               RJ              PE\n",
              "26     26 2007-09-16   16h00  ...              SP               RJ              RJ\n",
              "27     27 2007-09-23   18h10  ...              RJ               RJ              RJ\n",
              "28     28 2007-09-30   16h00  ...              RJ               GO              GO\n",
              "29     29 2007-10-03   21h45  ...              PR               RJ              PR\n",
              "3       3 2007-05-27   18h10  ...              RJ               RJ               -\n",
              "30     30 2007-10-06   18h10  ...              RJ               SP              SP\n",
              "31     31 2007-10-14   16h00  ...              RJ               RJ              RJ\n",
              "32     32 2007-10-20   18h10  ...              RJ               PE              RJ\n",
              "33     33 2007-10-28   18h10  ...              RS               RJ               -\n",
              "34     34 2007-11-01   20h30  ...              RJ               MG              RJ\n",
              "35     35 2007-11-04   18h10  ...              RN               RJ               -\n",
              "36     36 2007-11-10   18h10  ...              RJ               PR              RJ\n",
              "37     37 2007-11-25   16h00  ...              SP               RJ               -\n",
              "38     38 2007-12-02   16h00  ...              RJ               SC               -\n",
              "4       4 2007-06-02   18h10  ...              RJ               RS              RJ\n",
              "5       5 2007-06-09   18h10  ...              SP               RJ               -\n",
              "7       6 2007-06-17   18h10  ...              RJ               PE              RJ\n",
              "19      7 2007-08-15   21h45  ...              RJ               SP              SP\n",
              "8       8 2007-06-30   18h10  ...              RJ               RJ              RJ\n",
              "9       9 2007-07-03   21h45  ...              GO               RJ               -\n",
              "\n",
              "[39 rows x 13 columns]"
            ]
          },
          "metadata": {
            "tags": []
          },
          "execution_count": 23
        }
      ]
    },
    {
      "cell_type": "markdown",
      "metadata": {
        "id": "b6myNjkNG7Wq"
      },
      "source": [
        "* Ordenando a tabela pelas rodadas, vemos que possui dois jogos na rodada 2"
      ]
    },
    {
      "cell_type": "code",
      "metadata": {
        "colab": {
          "base_uri": "https://localhost:8080/",
          "height": 162
        },
        "id": "2z8hvgpqILUG",
        "outputId": "42a8f48c-f774-454f-9df2-3c5b9ac76393"
      },
      "source": [
        "# Dois jogos em uma unica rodada, no caso a rodada é a 2\n",
        "jogos_botafogo.loc[jogos_botafogo['Rodada'] == '2']"
      ],
      "execution_count": 24,
      "outputs": [
        {
          "output_type": "execute_result",
          "data": {
            "text/html": [
              "<div>\n",
              "<style scoped>\n",
              "    .dataframe tbody tr th:only-of-type {\n",
              "        vertical-align: middle;\n",
              "    }\n",
              "\n",
              "    .dataframe tbody tr th {\n",
              "        vertical-align: top;\n",
              "    }\n",
              "\n",
              "    .dataframe thead th {\n",
              "        text-align: right;\n",
              "    }\n",
              "</style>\n",
              "<table border=\"1\" class=\"dataframe\">\n",
              "  <thead>\n",
              "    <tr style=\"text-align: right;\">\n",
              "      <th></th>\n",
              "      <th>Rodada</th>\n",
              "      <th>Data</th>\n",
              "      <th>Horário</th>\n",
              "      <th>Dia</th>\n",
              "      <th>Mandante</th>\n",
              "      <th>Visitante</th>\n",
              "      <th>Vencedor</th>\n",
              "      <th>Arena</th>\n",
              "      <th>Mandante Placar</th>\n",
              "      <th>Visitante Placar</th>\n",
              "      <th>Estado Mandante</th>\n",
              "      <th>Estado Visitante</th>\n",
              "      <th>Estado Vencedor</th>\n",
              "    </tr>\n",
              "  </thead>\n",
              "  <tbody>\n",
              "    <tr>\n",
              "      <th>1</th>\n",
              "      <td>2</td>\n",
              "      <td>2007-05-17</td>\n",
              "      <td>18h10</td>\n",
              "      <td>Sábado</td>\n",
              "      <td>Cruzeiro</td>\n",
              "      <td>Botafogo-RJ</td>\n",
              "      <td>Cruzeiro</td>\n",
              "      <td>Mineirão</td>\n",
              "      <td>1</td>\n",
              "      <td>0</td>\n",
              "      <td>MG</td>\n",
              "      <td>RJ</td>\n",
              "      <td>MG</td>\n",
              "    </tr>\n",
              "    <tr>\n",
              "      <th>2</th>\n",
              "      <td>2</td>\n",
              "      <td>2007-05-20</td>\n",
              "      <td>16h00</td>\n",
              "      <td>Domingo</td>\n",
              "      <td>Botafogo-RJ</td>\n",
              "      <td>Atlético-MG</td>\n",
              "      <td>Botafogo-RJ</td>\n",
              "      <td>Maracanã</td>\n",
              "      <td>2</td>\n",
              "      <td>1</td>\n",
              "      <td>RJ</td>\n",
              "      <td>MG</td>\n",
              "      <td>RJ</td>\n",
              "    </tr>\n",
              "  </tbody>\n",
              "</table>\n",
              "</div>"
            ],
            "text/plain": [
              "  Rodada       Data Horário  ... Estado Mandante Estado Visitante Estado Vencedor\n",
              "1      2 2007-05-17   18h10  ...              MG               RJ              MG\n",
              "2      2 2007-05-20   16h00  ...              RJ               MG              RJ\n",
              "\n",
              "[2 rows x 13 columns]"
            ]
          },
          "metadata": {
            "tags": []
          },
          "execution_count": 24
        }
      ]
    },
    {
      "cell_type": "markdown",
      "metadata": {
        "id": "Wa5BwWLyIxYw"
      },
      "source": [
        "* Vamos analisar qual jogo não pertence a tabela"
      ]
    },
    {
      "cell_type": "code",
      "metadata": {
        "colab": {
          "base_uri": "https://localhost:8080/",
          "height": 114
        },
        "id": "cMk2YDAhI4_j",
        "outputId": "6aec293a-8cb2-45da-cd18-d3b50c6512e7"
      },
      "source": [
        "#Jogos onde o Atlético-MG foi visitante\n",
        "jogos_botafogo.loc[jogos_botafogo['Visitante'] == 'Atlético-MG']"
      ],
      "execution_count": 25,
      "outputs": [
        {
          "output_type": "execute_result",
          "data": {
            "text/html": [
              "<div>\n",
              "<style scoped>\n",
              "    .dataframe tbody tr th:only-of-type {\n",
              "        vertical-align: middle;\n",
              "    }\n",
              "\n",
              "    .dataframe tbody tr th {\n",
              "        vertical-align: top;\n",
              "    }\n",
              "\n",
              "    .dataframe thead th {\n",
              "        text-align: right;\n",
              "    }\n",
              "</style>\n",
              "<table border=\"1\" class=\"dataframe\">\n",
              "  <thead>\n",
              "    <tr style=\"text-align: right;\">\n",
              "      <th></th>\n",
              "      <th>Rodada</th>\n",
              "      <th>Data</th>\n",
              "      <th>Horário</th>\n",
              "      <th>Dia</th>\n",
              "      <th>Mandante</th>\n",
              "      <th>Visitante</th>\n",
              "      <th>Vencedor</th>\n",
              "      <th>Arena</th>\n",
              "      <th>Mandante Placar</th>\n",
              "      <th>Visitante Placar</th>\n",
              "      <th>Estado Mandante</th>\n",
              "      <th>Estado Visitante</th>\n",
              "      <th>Estado Vencedor</th>\n",
              "    </tr>\n",
              "  </thead>\n",
              "  <tbody>\n",
              "    <tr>\n",
              "      <th>2</th>\n",
              "      <td>2</td>\n",
              "      <td>2007-05-20</td>\n",
              "      <td>16h00</td>\n",
              "      <td>Domingo</td>\n",
              "      <td>Botafogo-RJ</td>\n",
              "      <td>Atlético-MG</td>\n",
              "      <td>Botafogo-RJ</td>\n",
              "      <td>Maracanã</td>\n",
              "      <td>2</td>\n",
              "      <td>1</td>\n",
              "      <td>RJ</td>\n",
              "      <td>MG</td>\n",
              "      <td>RJ</td>\n",
              "    </tr>\n",
              "  </tbody>\n",
              "</table>\n",
              "</div>"
            ],
            "text/plain": [
              "  Rodada       Data Horário  ... Estado Mandante Estado Visitante Estado Vencedor\n",
              "2      2 2007-05-20   16h00  ...              RJ               MG              RJ\n",
              "\n",
              "[1 rows x 13 columns]"
            ]
          },
          "metadata": {
            "tags": []
          },
          "execution_count": 25
        }
      ]
    },
    {
      "cell_type": "markdown",
      "metadata": {
        "id": "F7m07S5jJgGb"
      },
      "source": [
        "\n",
        "\n",
        "* O Atlético-MG só possui um jogo contra o Botafogo como visitante"
      ]
    },
    {
      "cell_type": "code",
      "metadata": {
        "colab": {
          "base_uri": "https://localhost:8080/",
          "height": 162
        },
        "id": "0JVMmAnWJuto",
        "outputId": "55124f17-d62e-4dec-fe64-301f047257c4"
      },
      "source": [
        "#Jogos contra o Botafogo onde o Cruzeiro foi mandante\n",
        "jogos_botafogo.loc[jogos_botafogo['Mandante'] == 'Cruzeiro']"
      ],
      "execution_count": 26,
      "outputs": [
        {
          "output_type": "execute_result",
          "data": {
            "text/html": [
              "<div>\n",
              "<style scoped>\n",
              "    .dataframe tbody tr th:only-of-type {\n",
              "        vertical-align: middle;\n",
              "    }\n",
              "\n",
              "    .dataframe tbody tr th {\n",
              "        vertical-align: top;\n",
              "    }\n",
              "\n",
              "    .dataframe thead th {\n",
              "        text-align: right;\n",
              "    }\n",
              "</style>\n",
              "<table border=\"1\" class=\"dataframe\">\n",
              "  <thead>\n",
              "    <tr style=\"text-align: right;\">\n",
              "      <th></th>\n",
              "      <th>Rodada</th>\n",
              "      <th>Data</th>\n",
              "      <th>Horário</th>\n",
              "      <th>Dia</th>\n",
              "      <th>Mandante</th>\n",
              "      <th>Visitante</th>\n",
              "      <th>Vencedor</th>\n",
              "      <th>Arena</th>\n",
              "      <th>Mandante Placar</th>\n",
              "      <th>Visitante Placar</th>\n",
              "      <th>Estado Mandante</th>\n",
              "      <th>Estado Visitante</th>\n",
              "      <th>Estado Vencedor</th>\n",
              "    </tr>\n",
              "  </thead>\n",
              "  <tbody>\n",
              "    <tr>\n",
              "      <th>1</th>\n",
              "      <td>2</td>\n",
              "      <td>2007-05-17</td>\n",
              "      <td>18h10</td>\n",
              "      <td>Sábado</td>\n",
              "      <td>Cruzeiro</td>\n",
              "      <td>Botafogo-RJ</td>\n",
              "      <td>Cruzeiro</td>\n",
              "      <td>Mineirão</td>\n",
              "      <td>1</td>\n",
              "      <td>0</td>\n",
              "      <td>MG</td>\n",
              "      <td>RJ</td>\n",
              "      <td>MG</td>\n",
              "    </tr>\n",
              "    <tr>\n",
              "      <th>14</th>\n",
              "      <td>15</td>\n",
              "      <td>2007-07-29</td>\n",
              "      <td>18h10</td>\n",
              "      <td>Domingo</td>\n",
              "      <td>Cruzeiro</td>\n",
              "      <td>Botafogo-RJ</td>\n",
              "      <td>Cruzeiro</td>\n",
              "      <td>Mineirão</td>\n",
              "      <td>3</td>\n",
              "      <td>2</td>\n",
              "      <td>MG</td>\n",
              "      <td>RJ</td>\n",
              "      <td>MG</td>\n",
              "    </tr>\n",
              "  </tbody>\n",
              "</table>\n",
              "</div>"
            ],
            "text/plain": [
              "   Rodada       Data Horário  ... Estado Mandante Estado Visitante Estado Vencedor\n",
              "1       2 2007-05-17   18h10  ...              MG               RJ              MG\n",
              "14     15 2007-07-29   18h10  ...              MG               RJ              MG\n",
              "\n",
              "[2 rows x 13 columns]"
            ]
          },
          "metadata": {
            "tags": []
          },
          "execution_count": 26
        }
      ]
    },
    {
      "cell_type": "markdown",
      "metadata": {
        "id": "5N0ECuDvKZvI"
      },
      "source": [
        "\n",
        "\n",
        "* Acima vemos que o jogo Cruzeiro e Botafogo está duplicado.\n",
        "* De acordo com a tabela do brasileirão de 2007, o jogo da rodada 2 com a data de 17-05-2007 não ocorreu, com isso vamos excluir esse jogo.\n",
        "* Link da classificação do campeonato de brasileiro de 2007: https://pt.wikipedia.org/wiki/Campeonato_Brasileiro_de_Futebol_de_2007_-_S%C3%A9rie_A#Classifica%C3%A7%C3%A3o\n"
      ]
    },
    {
      "cell_type": "code",
      "metadata": {
        "colab": {
          "base_uri": "https://localhost:8080/"
        },
        "id": "yjE1WOYvQ0yf",
        "outputId": "04c5075c-171d-40ec-be90-108a0d74ae13"
      },
      "source": [
        "#Removendo a linha que contém o jogo duplicado\n",
        "jogos_botafogo.drop(1 , inplace=True)"
      ],
      "execution_count": 27,
      "outputs": [
        {
          "output_type": "stream",
          "text": [
            "/usr/local/lib/python3.7/dist-packages/pandas/core/frame.py:4174: SettingWithCopyWarning: \n",
            "A value is trying to be set on a copy of a slice from a DataFrame\n",
            "\n",
            "See the caveats in the documentation: https://pandas.pydata.org/pandas-docs/stable/user_guide/indexing.html#returning-a-view-versus-a-copy\n",
            "  errors=errors,\n"
          ],
          "name": "stderr"
        }
      ]
    },
    {
      "cell_type": "code",
      "metadata": {
        "colab": {
          "base_uri": "https://localhost:8080/",
          "height": 306
        },
        "id": "gLZ_MtNjyF8U",
        "outputId": "a4bca72c-fed3-46f4-fd72-5dafea0d6788"
      },
      "source": [
        "jogos_botafogo.head()"
      ],
      "execution_count": 28,
      "outputs": [
        {
          "output_type": "execute_result",
          "data": {
            "text/html": [
              "<div>\n",
              "<style scoped>\n",
              "    .dataframe tbody tr th:only-of-type {\n",
              "        vertical-align: middle;\n",
              "    }\n",
              "\n",
              "    .dataframe tbody tr th {\n",
              "        vertical-align: top;\n",
              "    }\n",
              "\n",
              "    .dataframe thead th {\n",
              "        text-align: right;\n",
              "    }\n",
              "</style>\n",
              "<table border=\"1\" class=\"dataframe\">\n",
              "  <thead>\n",
              "    <tr style=\"text-align: right;\">\n",
              "      <th></th>\n",
              "      <th>Rodada</th>\n",
              "      <th>Data</th>\n",
              "      <th>Horário</th>\n",
              "      <th>Dia</th>\n",
              "      <th>Mandante</th>\n",
              "      <th>Visitante</th>\n",
              "      <th>Vencedor</th>\n",
              "      <th>Arena</th>\n",
              "      <th>Mandante Placar</th>\n",
              "      <th>Visitante Placar</th>\n",
              "      <th>Estado Mandante</th>\n",
              "      <th>Estado Visitante</th>\n",
              "      <th>Estado Vencedor</th>\n",
              "    </tr>\n",
              "  </thead>\n",
              "  <tbody>\n",
              "    <tr>\n",
              "      <th>0</th>\n",
              "      <td>1</td>\n",
              "      <td>2007-05-13</td>\n",
              "      <td>16h00</td>\n",
              "      <td>Domingo</td>\n",
              "      <td>Internacional</td>\n",
              "      <td>Botafogo-RJ</td>\n",
              "      <td>Botafogo-RJ</td>\n",
              "      <td>Beira Rio</td>\n",
              "      <td>2</td>\n",
              "      <td>3</td>\n",
              "      <td>RS</td>\n",
              "      <td>RJ</td>\n",
              "      <td>RJ</td>\n",
              "    </tr>\n",
              "    <tr>\n",
              "      <th>2</th>\n",
              "      <td>2</td>\n",
              "      <td>2007-05-20</td>\n",
              "      <td>16h00</td>\n",
              "      <td>Domingo</td>\n",
              "      <td>Botafogo-RJ</td>\n",
              "      <td>Atlético-MG</td>\n",
              "      <td>Botafogo-RJ</td>\n",
              "      <td>Maracanã</td>\n",
              "      <td>2</td>\n",
              "      <td>1</td>\n",
              "      <td>RJ</td>\n",
              "      <td>MG</td>\n",
              "      <td>RJ</td>\n",
              "    </tr>\n",
              "    <tr>\n",
              "      <th>3</th>\n",
              "      <td>3</td>\n",
              "      <td>2007-05-27</td>\n",
              "      <td>18h10</td>\n",
              "      <td>Domingo</td>\n",
              "      <td>Flamengo</td>\n",
              "      <td>Botafogo-RJ</td>\n",
              "      <td>-</td>\n",
              "      <td>Maracanã</td>\n",
              "      <td>2</td>\n",
              "      <td>2</td>\n",
              "      <td>RJ</td>\n",
              "      <td>RJ</td>\n",
              "      <td>-</td>\n",
              "    </tr>\n",
              "    <tr>\n",
              "      <th>4</th>\n",
              "      <td>4</td>\n",
              "      <td>2007-06-02</td>\n",
              "      <td>18h10</td>\n",
              "      <td>Sábado</td>\n",
              "      <td>Botafogo-RJ</td>\n",
              "      <td>Grêmio</td>\n",
              "      <td>Botafogo-RJ</td>\n",
              "      <td>Maracanã</td>\n",
              "      <td>3</td>\n",
              "      <td>0</td>\n",
              "      <td>RJ</td>\n",
              "      <td>RS</td>\n",
              "      <td>RJ</td>\n",
              "    </tr>\n",
              "    <tr>\n",
              "      <th>5</th>\n",
              "      <td>5</td>\n",
              "      <td>2007-06-09</td>\n",
              "      <td>18h10</td>\n",
              "      <td>Sábado</td>\n",
              "      <td>Palmeiras</td>\n",
              "      <td>Botafogo-RJ</td>\n",
              "      <td>-</td>\n",
              "      <td>Parque Antártica</td>\n",
              "      <td>1</td>\n",
              "      <td>1</td>\n",
              "      <td>SP</td>\n",
              "      <td>RJ</td>\n",
              "      <td>-</td>\n",
              "    </tr>\n",
              "  </tbody>\n",
              "</table>\n",
              "</div>"
            ],
            "text/plain": [
              "  Rodada       Data Horário  ... Estado Mandante Estado Visitante Estado Vencedor\n",
              "0      1 2007-05-13   16h00  ...              RS               RJ              RJ\n",
              "2      2 2007-05-20   16h00  ...              RJ               MG              RJ\n",
              "3      3 2007-05-27   18h10  ...              RJ               RJ               -\n",
              "4      4 2007-06-02   18h10  ...              RJ               RS              RJ\n",
              "5      5 2007-06-09   18h10  ...              SP               RJ               -\n",
              "\n",
              "[5 rows x 13 columns]"
            ]
          },
          "metadata": {
            "tags": []
          },
          "execution_count": 28
        }
      ]
    },
    {
      "cell_type": "code",
      "metadata": {
        "colab": {
          "base_uri": "https://localhost:8080/",
          "height": 114
        },
        "id": "RNeG7O__RMh3",
        "outputId": "876e4278-90e8-4423-dbc9-c1416fa6f60e"
      },
      "source": [
        "#Jogos onde o Cruzeiro foi mandante\n",
        "jogos_botafogo.loc[jogos_botafogo['Mandante'] == 'Cruzeiro']"
      ],
      "execution_count": 29,
      "outputs": [
        {
          "output_type": "execute_result",
          "data": {
            "text/html": [
              "<div>\n",
              "<style scoped>\n",
              "    .dataframe tbody tr th:only-of-type {\n",
              "        vertical-align: middle;\n",
              "    }\n",
              "\n",
              "    .dataframe tbody tr th {\n",
              "        vertical-align: top;\n",
              "    }\n",
              "\n",
              "    .dataframe thead th {\n",
              "        text-align: right;\n",
              "    }\n",
              "</style>\n",
              "<table border=\"1\" class=\"dataframe\">\n",
              "  <thead>\n",
              "    <tr style=\"text-align: right;\">\n",
              "      <th></th>\n",
              "      <th>Rodada</th>\n",
              "      <th>Data</th>\n",
              "      <th>Horário</th>\n",
              "      <th>Dia</th>\n",
              "      <th>Mandante</th>\n",
              "      <th>Visitante</th>\n",
              "      <th>Vencedor</th>\n",
              "      <th>Arena</th>\n",
              "      <th>Mandante Placar</th>\n",
              "      <th>Visitante Placar</th>\n",
              "      <th>Estado Mandante</th>\n",
              "      <th>Estado Visitante</th>\n",
              "      <th>Estado Vencedor</th>\n",
              "    </tr>\n",
              "  </thead>\n",
              "  <tbody>\n",
              "    <tr>\n",
              "      <th>14</th>\n",
              "      <td>15</td>\n",
              "      <td>2007-07-29</td>\n",
              "      <td>18h10</td>\n",
              "      <td>Domingo</td>\n",
              "      <td>Cruzeiro</td>\n",
              "      <td>Botafogo-RJ</td>\n",
              "      <td>Cruzeiro</td>\n",
              "      <td>Mineirão</td>\n",
              "      <td>3</td>\n",
              "      <td>2</td>\n",
              "      <td>MG</td>\n",
              "      <td>RJ</td>\n",
              "      <td>MG</td>\n",
              "    </tr>\n",
              "  </tbody>\n",
              "</table>\n",
              "</div>"
            ],
            "text/plain": [
              "   Rodada       Data Horário  ... Estado Mandante Estado Visitante Estado Vencedor\n",
              "14     15 2007-07-29   18h10  ...              MG               RJ              MG\n",
              "\n",
              "[1 rows x 13 columns]"
            ]
          },
          "metadata": {
            "tags": []
          },
          "execution_count": 29
        }
      ]
    },
    {
      "cell_type": "markdown",
      "metadata": {
        "id": "x055ErSqRfQm"
      },
      "source": [
        "* Como podemos ver acima, o jogo foi removido."
      ]
    },
    {
      "cell_type": "markdown",
      "metadata": {
        "id": "V8Vzc1ClKay-"
      },
      "source": [
        "* Outra coisa observada na análise foi que a coluna horário divergia dos valores das outras colunas, com isso vamos analisar se o dataset possui algum missing value"
      ]
    },
    {
      "cell_type": "code",
      "metadata": {
        "colab": {
          "base_uri": "https://localhost:8080/"
        },
        "id": "79xczwu8225L",
        "outputId": "df8e7a79-323d-468e-fcd6-07091133f431"
      },
      "source": [
        "#Consultando valores faltantes \n",
        "jogos_botafogo.isnull().sum()"
      ],
      "execution_count": 30,
      "outputs": [
        {
          "output_type": "execute_result",
          "data": {
            "text/plain": [
              "Rodada              0\n",
              "Data                0\n",
              "Horário             1\n",
              "Dia                 0\n",
              "Mandante            0\n",
              "Visitante           0\n",
              "Vencedor            0\n",
              "Arena               0\n",
              "Mandante Placar     0\n",
              "Visitante Placar    0\n",
              "Estado Mandante     0\n",
              "Estado Visitante    0\n",
              "Estado Vencedor     0\n",
              "dtype: int64"
            ]
          },
          "metadata": {
            "tags": []
          },
          "execution_count": 30
        }
      ]
    },
    {
      "cell_type": "code",
      "metadata": {
        "colab": {
          "base_uri": "https://localhost:8080/"
        },
        "id": "m-59mqWo3TPY",
        "outputId": "845e23ee-1bd5-48a1-e420-b29a189985a9"
      },
      "source": [
        "#Usando o método iterrows para percorrer o dataset e mostrar em qual linha esta o valor faltante\n",
        "for indice, linha in jogos_botafogo.iterrows():\n",
        "  print(indice, linha['Horário'], linha['Rodada'])"
      ],
      "execution_count": 31,
      "outputs": [
        {
          "output_type": "stream",
          "text": [
            "0 16h00 1\n",
            "2 16h00 2\n",
            "3 18h10 3\n",
            "4 18h10 4\n",
            "5 18h10 5\n",
            "6 20h30 12\n",
            "7 18h10 6\n",
            "8 18h10 8\n",
            "9 21h45 9\n",
            "10 18h10 10\n",
            "11 16h00 11\n",
            "12 15h00 14\n",
            "13 18h10 13\n",
            "14 18h10 15\n",
            "15 20h30 16\n",
            "16 18h10 17\n",
            "17 21h45 18\n",
            "18 16h00 19\n",
            "19 21h45 7\n",
            "20 18h10 20\n",
            "21 16h00 21\n",
            "22 20h30 22\n",
            "23 16h00 23\n",
            "24 20h30 24\n",
            "25 nan 25\n",
            "26 16h00 26\n",
            "27 18h10 27\n",
            "28 16h00 28\n",
            "29 21h45 29\n",
            "30 18h10 30\n",
            "31 16h00 31\n",
            "32 18h10 32\n",
            "33 18h10 33\n",
            "34 20h30 34\n",
            "35 18h10 35\n",
            "36 18h10 36\n",
            "37 16h00 37\n",
            "38 16h00 38\n"
          ],
          "name": "stdout"
        }
      ]
    },
    {
      "cell_type": "code",
      "metadata": {
        "colab": {
          "base_uri": "https://localhost:8080/",
          "height": 114
        },
        "id": "TAIdA5PW3UQr",
        "outputId": "e10cbc67-cee2-46cd-f794-10a5530e90b8"
      },
      "source": [
        "# Achando o valor nulo na coluna horário\n",
        "jogos_botafogo.loc[jogos_botafogo['Horário'].isna()]"
      ],
      "execution_count": 32,
      "outputs": [
        {
          "output_type": "execute_result",
          "data": {
            "text/html": [
              "<div>\n",
              "<style scoped>\n",
              "    .dataframe tbody tr th:only-of-type {\n",
              "        vertical-align: middle;\n",
              "    }\n",
              "\n",
              "    .dataframe tbody tr th {\n",
              "        vertical-align: top;\n",
              "    }\n",
              "\n",
              "    .dataframe thead th {\n",
              "        text-align: right;\n",
              "    }\n",
              "</style>\n",
              "<table border=\"1\" class=\"dataframe\">\n",
              "  <thead>\n",
              "    <tr style=\"text-align: right;\">\n",
              "      <th></th>\n",
              "      <th>Rodada</th>\n",
              "      <th>Data</th>\n",
              "      <th>Horário</th>\n",
              "      <th>Dia</th>\n",
              "      <th>Mandante</th>\n",
              "      <th>Visitante</th>\n",
              "      <th>Vencedor</th>\n",
              "      <th>Arena</th>\n",
              "      <th>Mandante Placar</th>\n",
              "      <th>Visitante Placar</th>\n",
              "      <th>Estado Mandante</th>\n",
              "      <th>Estado Visitante</th>\n",
              "      <th>Estado Vencedor</th>\n",
              "    </tr>\n",
              "  </thead>\n",
              "  <tbody>\n",
              "    <tr>\n",
              "      <th>25</th>\n",
              "      <td>25</td>\n",
              "      <td>2007-09-09</td>\n",
              "      <td>NaN</td>\n",
              "      <td>Domingo</td>\n",
              "      <td>Náutico</td>\n",
              "      <td>Botafogo-RJ</td>\n",
              "      <td>Náutico</td>\n",
              "      <td>Aflitos</td>\n",
              "      <td>4</td>\n",
              "      <td>1</td>\n",
              "      <td>PE</td>\n",
              "      <td>RJ</td>\n",
              "      <td>PE</td>\n",
              "    </tr>\n",
              "  </tbody>\n",
              "</table>\n",
              "</div>"
            ],
            "text/plain": [
              "   Rodada       Data Horário  ... Estado Mandante Estado Visitante Estado Vencedor\n",
              "25     25 2007-09-09     NaN  ...              PE               RJ              PE\n",
              "\n",
              "[1 rows x 13 columns]"
            ]
          },
          "metadata": {
            "tags": []
          },
          "execution_count": 32
        }
      ]
    },
    {
      "cell_type": "markdown",
      "metadata": {
        "id": "byYeqVGvA9xV"
      },
      "source": [
        "* De acordo com a análise, na rodada 25 não possui o horário da partida, com isso vamos adicionar o horário. \n",
        "* O jogo com horário faltante foi Náutico x Botafogo da rodada 25, que aconteceu as 19:00 horas daquele dia, com isso vamos atualizar o dataset\n",
        "\n"
      ]
    },
    {
      "cell_type": "code",
      "metadata": {
        "colab": {
          "base_uri": "https://localhost:8080/",
          "height": 114
        },
        "id": "iVGn_gIKCONr",
        "outputId": "654bd0ed-934c-4562-cf6a-321b43f28551"
      },
      "source": [
        "#Selecionando a linha com o jogo que não possui horário\n",
        "jogos_botafogo.loc[jogos_botafogo['Rodada'] == '25']"
      ],
      "execution_count": 33,
      "outputs": [
        {
          "output_type": "execute_result",
          "data": {
            "text/html": [
              "<div>\n",
              "<style scoped>\n",
              "    .dataframe tbody tr th:only-of-type {\n",
              "        vertical-align: middle;\n",
              "    }\n",
              "\n",
              "    .dataframe tbody tr th {\n",
              "        vertical-align: top;\n",
              "    }\n",
              "\n",
              "    .dataframe thead th {\n",
              "        text-align: right;\n",
              "    }\n",
              "</style>\n",
              "<table border=\"1\" class=\"dataframe\">\n",
              "  <thead>\n",
              "    <tr style=\"text-align: right;\">\n",
              "      <th></th>\n",
              "      <th>Rodada</th>\n",
              "      <th>Data</th>\n",
              "      <th>Horário</th>\n",
              "      <th>Dia</th>\n",
              "      <th>Mandante</th>\n",
              "      <th>Visitante</th>\n",
              "      <th>Vencedor</th>\n",
              "      <th>Arena</th>\n",
              "      <th>Mandante Placar</th>\n",
              "      <th>Visitante Placar</th>\n",
              "      <th>Estado Mandante</th>\n",
              "      <th>Estado Visitante</th>\n",
              "      <th>Estado Vencedor</th>\n",
              "    </tr>\n",
              "  </thead>\n",
              "  <tbody>\n",
              "    <tr>\n",
              "      <th>25</th>\n",
              "      <td>25</td>\n",
              "      <td>2007-09-09</td>\n",
              "      <td>NaN</td>\n",
              "      <td>Domingo</td>\n",
              "      <td>Náutico</td>\n",
              "      <td>Botafogo-RJ</td>\n",
              "      <td>Náutico</td>\n",
              "      <td>Aflitos</td>\n",
              "      <td>4</td>\n",
              "      <td>1</td>\n",
              "      <td>PE</td>\n",
              "      <td>RJ</td>\n",
              "      <td>PE</td>\n",
              "    </tr>\n",
              "  </tbody>\n",
              "</table>\n",
              "</div>"
            ],
            "text/plain": [
              "   Rodada       Data Horário  ... Estado Mandante Estado Visitante Estado Vencedor\n",
              "25     25 2007-09-09     NaN  ...              PE               RJ              PE\n",
              "\n",
              "[1 rows x 13 columns]"
            ]
          },
          "metadata": {
            "tags": []
          },
          "execution_count": 33
        }
      ]
    },
    {
      "cell_type": "code",
      "metadata": {
        "id": "64hMpbtZ3TKH",
        "colab": {
          "base_uri": "https://localhost:8080/"
        },
        "outputId": "bb4698f3-6467-4b6d-f846-fd2562dd4e2f"
      },
      "source": [
        "#Adicionando o horário faltante\n",
        "jogos_botafogo['Horário'].fillna('19h00', inplace = True)"
      ],
      "execution_count": 34,
      "outputs": [
        {
          "output_type": "stream",
          "text": [
            "/usr/local/lib/python3.7/dist-packages/pandas/core/series.py:4536: SettingWithCopyWarning: \n",
            "A value is trying to be set on a copy of a slice from a DataFrame\n",
            "\n",
            "See the caveats in the documentation: https://pandas.pydata.org/pandas-docs/stable/user_guide/indexing.html#returning-a-view-versus-a-copy\n",
            "  downcast=downcast,\n"
          ],
          "name": "stderr"
        }
      ]
    },
    {
      "cell_type": "code",
      "metadata": {
        "colab": {
          "base_uri": "https://localhost:8080/"
        },
        "id": "tKuQ6uC_81gV",
        "outputId": "9a319f3a-db3d-4ac5-e4d3-b08a82ad3264"
      },
      "source": [
        "#Consultando valores faltantes \n",
        "jogos_botafogo.isnull().sum()"
      ],
      "execution_count": 35,
      "outputs": [
        {
          "output_type": "execute_result",
          "data": {
            "text/plain": [
              "Rodada              0\n",
              "Data                0\n",
              "Horário             0\n",
              "Dia                 0\n",
              "Mandante            0\n",
              "Visitante           0\n",
              "Vencedor            0\n",
              "Arena               0\n",
              "Mandante Placar     0\n",
              "Visitante Placar    0\n",
              "Estado Mandante     0\n",
              "Estado Visitante    0\n",
              "Estado Vencedor     0\n",
              "dtype: int64"
            ]
          },
          "metadata": {
            "tags": []
          },
          "execution_count": 35
        }
      ]
    },
    {
      "cell_type": "code",
      "metadata": {
        "colab": {
          "base_uri": "https://localhost:8080/",
          "height": 114
        },
        "id": "drqzM9CsDPtD",
        "outputId": "08f7e119-e641-49ac-a259-0eb4ac8d4471"
      },
      "source": [
        "# Selecionando a linha para mostrar que foi adicionado o horário do jogo\n",
        "jogos_botafogo.loc[jogos_botafogo['Rodada'] == '25']"
      ],
      "execution_count": 36,
      "outputs": [
        {
          "output_type": "execute_result",
          "data": {
            "text/html": [
              "<div>\n",
              "<style scoped>\n",
              "    .dataframe tbody tr th:only-of-type {\n",
              "        vertical-align: middle;\n",
              "    }\n",
              "\n",
              "    .dataframe tbody tr th {\n",
              "        vertical-align: top;\n",
              "    }\n",
              "\n",
              "    .dataframe thead th {\n",
              "        text-align: right;\n",
              "    }\n",
              "</style>\n",
              "<table border=\"1\" class=\"dataframe\">\n",
              "  <thead>\n",
              "    <tr style=\"text-align: right;\">\n",
              "      <th></th>\n",
              "      <th>Rodada</th>\n",
              "      <th>Data</th>\n",
              "      <th>Horário</th>\n",
              "      <th>Dia</th>\n",
              "      <th>Mandante</th>\n",
              "      <th>Visitante</th>\n",
              "      <th>Vencedor</th>\n",
              "      <th>Arena</th>\n",
              "      <th>Mandante Placar</th>\n",
              "      <th>Visitante Placar</th>\n",
              "      <th>Estado Mandante</th>\n",
              "      <th>Estado Visitante</th>\n",
              "      <th>Estado Vencedor</th>\n",
              "    </tr>\n",
              "  </thead>\n",
              "  <tbody>\n",
              "    <tr>\n",
              "      <th>25</th>\n",
              "      <td>25</td>\n",
              "      <td>2007-09-09</td>\n",
              "      <td>19h00</td>\n",
              "      <td>Domingo</td>\n",
              "      <td>Náutico</td>\n",
              "      <td>Botafogo-RJ</td>\n",
              "      <td>Náutico</td>\n",
              "      <td>Aflitos</td>\n",
              "      <td>4</td>\n",
              "      <td>1</td>\n",
              "      <td>PE</td>\n",
              "      <td>RJ</td>\n",
              "      <td>PE</td>\n",
              "    </tr>\n",
              "  </tbody>\n",
              "</table>\n",
              "</div>"
            ],
            "text/plain": [
              "   Rodada       Data Horário  ... Estado Mandante Estado Visitante Estado Vencedor\n",
              "25     25 2007-09-09   19h00  ...              PE               RJ              PE\n",
              "\n",
              "[1 rows x 13 columns]"
            ]
          },
          "metadata": {
            "tags": []
          },
          "execution_count": 36
        }
      ]
    },
    {
      "cell_type": "code",
      "metadata": {
        "colab": {
          "base_uri": "https://localhost:8080/",
          "height": 1000
        },
        "id": "S6Lm50483THG",
        "outputId": "0457707b-8ff2-40fe-8097-030c2e36dd32"
      },
      "source": [
        "# Dataset completo com todos os jogos e com seus horários respectivos\n",
        "jogos_botafogo"
      ],
      "execution_count": 37,
      "outputs": [
        {
          "output_type": "execute_result",
          "data": {
            "text/html": [
              "<div>\n",
              "<style scoped>\n",
              "    .dataframe tbody tr th:only-of-type {\n",
              "        vertical-align: middle;\n",
              "    }\n",
              "\n",
              "    .dataframe tbody tr th {\n",
              "        vertical-align: top;\n",
              "    }\n",
              "\n",
              "    .dataframe thead th {\n",
              "        text-align: right;\n",
              "    }\n",
              "</style>\n",
              "<table border=\"1\" class=\"dataframe\">\n",
              "  <thead>\n",
              "    <tr style=\"text-align: right;\">\n",
              "      <th></th>\n",
              "      <th>Rodada</th>\n",
              "      <th>Data</th>\n",
              "      <th>Horário</th>\n",
              "      <th>Dia</th>\n",
              "      <th>Mandante</th>\n",
              "      <th>Visitante</th>\n",
              "      <th>Vencedor</th>\n",
              "      <th>Arena</th>\n",
              "      <th>Mandante Placar</th>\n",
              "      <th>Visitante Placar</th>\n",
              "      <th>Estado Mandante</th>\n",
              "      <th>Estado Visitante</th>\n",
              "      <th>Estado Vencedor</th>\n",
              "    </tr>\n",
              "  </thead>\n",
              "  <tbody>\n",
              "    <tr>\n",
              "      <th>0</th>\n",
              "      <td>1</td>\n",
              "      <td>2007-05-13</td>\n",
              "      <td>16h00</td>\n",
              "      <td>Domingo</td>\n",
              "      <td>Internacional</td>\n",
              "      <td>Botafogo-RJ</td>\n",
              "      <td>Botafogo-RJ</td>\n",
              "      <td>Beira Rio</td>\n",
              "      <td>2</td>\n",
              "      <td>3</td>\n",
              "      <td>RS</td>\n",
              "      <td>RJ</td>\n",
              "      <td>RJ</td>\n",
              "    </tr>\n",
              "    <tr>\n",
              "      <th>2</th>\n",
              "      <td>2</td>\n",
              "      <td>2007-05-20</td>\n",
              "      <td>16h00</td>\n",
              "      <td>Domingo</td>\n",
              "      <td>Botafogo-RJ</td>\n",
              "      <td>Atlético-MG</td>\n",
              "      <td>Botafogo-RJ</td>\n",
              "      <td>Maracanã</td>\n",
              "      <td>2</td>\n",
              "      <td>1</td>\n",
              "      <td>RJ</td>\n",
              "      <td>MG</td>\n",
              "      <td>RJ</td>\n",
              "    </tr>\n",
              "    <tr>\n",
              "      <th>3</th>\n",
              "      <td>3</td>\n",
              "      <td>2007-05-27</td>\n",
              "      <td>18h10</td>\n",
              "      <td>Domingo</td>\n",
              "      <td>Flamengo</td>\n",
              "      <td>Botafogo-RJ</td>\n",
              "      <td>-</td>\n",
              "      <td>Maracanã</td>\n",
              "      <td>2</td>\n",
              "      <td>2</td>\n",
              "      <td>RJ</td>\n",
              "      <td>RJ</td>\n",
              "      <td>-</td>\n",
              "    </tr>\n",
              "    <tr>\n",
              "      <th>4</th>\n",
              "      <td>4</td>\n",
              "      <td>2007-06-02</td>\n",
              "      <td>18h10</td>\n",
              "      <td>Sábado</td>\n",
              "      <td>Botafogo-RJ</td>\n",
              "      <td>Grêmio</td>\n",
              "      <td>Botafogo-RJ</td>\n",
              "      <td>Maracanã</td>\n",
              "      <td>3</td>\n",
              "      <td>0</td>\n",
              "      <td>RJ</td>\n",
              "      <td>RS</td>\n",
              "      <td>RJ</td>\n",
              "    </tr>\n",
              "    <tr>\n",
              "      <th>5</th>\n",
              "      <td>5</td>\n",
              "      <td>2007-06-09</td>\n",
              "      <td>18h10</td>\n",
              "      <td>Sábado</td>\n",
              "      <td>Palmeiras</td>\n",
              "      <td>Botafogo-RJ</td>\n",
              "      <td>-</td>\n",
              "      <td>Parque Antártica</td>\n",
              "      <td>1</td>\n",
              "      <td>1</td>\n",
              "      <td>SP</td>\n",
              "      <td>RJ</td>\n",
              "      <td>-</td>\n",
              "    </tr>\n",
              "    <tr>\n",
              "      <th>6</th>\n",
              "      <td>12</td>\n",
              "      <td>2007-06-14</td>\n",
              "      <td>20h30</td>\n",
              "      <td>Quinta-feira</td>\n",
              "      <td>Botafogo-RJ</td>\n",
              "      <td>Vasco</td>\n",
              "      <td>Botafogo-RJ</td>\n",
              "      <td>Maracanã</td>\n",
              "      <td>4</td>\n",
              "      <td>0</td>\n",
              "      <td>RJ</td>\n",
              "      <td>RJ</td>\n",
              "      <td>RJ</td>\n",
              "    </tr>\n",
              "    <tr>\n",
              "      <th>7</th>\n",
              "      <td>6</td>\n",
              "      <td>2007-06-17</td>\n",
              "      <td>18h10</td>\n",
              "      <td>Domingo</td>\n",
              "      <td>Botafogo-RJ</td>\n",
              "      <td>Náutico</td>\n",
              "      <td>Botafogo-RJ</td>\n",
              "      <td>Maracanã</td>\n",
              "      <td>3</td>\n",
              "      <td>1</td>\n",
              "      <td>RJ</td>\n",
              "      <td>PE</td>\n",
              "      <td>RJ</td>\n",
              "    </tr>\n",
              "    <tr>\n",
              "      <th>8</th>\n",
              "      <td>8</td>\n",
              "      <td>2007-06-30</td>\n",
              "      <td>18h10</td>\n",
              "      <td>Sábado</td>\n",
              "      <td>Fluminense</td>\n",
              "      <td>Botafogo-RJ</td>\n",
              "      <td>Botafogo-RJ</td>\n",
              "      <td>Engenhão</td>\n",
              "      <td>1</td>\n",
              "      <td>2</td>\n",
              "      <td>RJ</td>\n",
              "      <td>RJ</td>\n",
              "      <td>RJ</td>\n",
              "    </tr>\n",
              "    <tr>\n",
              "      <th>9</th>\n",
              "      <td>9</td>\n",
              "      <td>2007-07-03</td>\n",
              "      <td>21h45</td>\n",
              "      <td>Terça-feira</td>\n",
              "      <td>Goiás</td>\n",
              "      <td>Botafogo-RJ</td>\n",
              "      <td>-</td>\n",
              "      <td>Serra Dourada</td>\n",
              "      <td>1</td>\n",
              "      <td>1</td>\n",
              "      <td>GO</td>\n",
              "      <td>RJ</td>\n",
              "      <td>-</td>\n",
              "    </tr>\n",
              "    <tr>\n",
              "      <th>10</th>\n",
              "      <td>10</td>\n",
              "      <td>2007-07-07</td>\n",
              "      <td>18h10</td>\n",
              "      <td>Sábado</td>\n",
              "      <td>Botafogo-RJ</td>\n",
              "      <td>Athlético-PR</td>\n",
              "      <td>Botafogo-RJ</td>\n",
              "      <td>Mané Garrincha</td>\n",
              "      <td>2</td>\n",
              "      <td>0</td>\n",
              "      <td>RJ</td>\n",
              "      <td>PR</td>\n",
              "      <td>RJ</td>\n",
              "    </tr>\n",
              "    <tr>\n",
              "      <th>11</th>\n",
              "      <td>11</td>\n",
              "      <td>2007-07-14</td>\n",
              "      <td>16h00</td>\n",
              "      <td>Sábado</td>\n",
              "      <td>Santos</td>\n",
              "      <td>Botafogo-RJ</td>\n",
              "      <td>Santos</td>\n",
              "      <td>Vila Belmiro</td>\n",
              "      <td>3</td>\n",
              "      <td>0</td>\n",
              "      <td>SP</td>\n",
              "      <td>RJ</td>\n",
              "      <td>SP</td>\n",
              "    </tr>\n",
              "    <tr>\n",
              "      <th>12</th>\n",
              "      <td>14</td>\n",
              "      <td>2007-07-19</td>\n",
              "      <td>15h00</td>\n",
              "      <td>Quinta-feira</td>\n",
              "      <td>Botafogo-RJ</td>\n",
              "      <td>Juventude</td>\n",
              "      <td>Botafogo-RJ</td>\n",
              "      <td>Giulite Coutinho</td>\n",
              "      <td>3</td>\n",
              "      <td>1</td>\n",
              "      <td>RJ</td>\n",
              "      <td>RS</td>\n",
              "      <td>RJ</td>\n",
              "    </tr>\n",
              "    <tr>\n",
              "      <th>13</th>\n",
              "      <td>13</td>\n",
              "      <td>2007-07-22</td>\n",
              "      <td>18h10</td>\n",
              "      <td>Domingo</td>\n",
              "      <td>Sport</td>\n",
              "      <td>Botafogo-RJ</td>\n",
              "      <td>-</td>\n",
              "      <td>Ilha do Retiro</td>\n",
              "      <td>3</td>\n",
              "      <td>3</td>\n",
              "      <td>PE</td>\n",
              "      <td>RJ</td>\n",
              "      <td>-</td>\n",
              "    </tr>\n",
              "    <tr>\n",
              "      <th>14</th>\n",
              "      <td>15</td>\n",
              "      <td>2007-07-29</td>\n",
              "      <td>18h10</td>\n",
              "      <td>Domingo</td>\n",
              "      <td>Cruzeiro</td>\n",
              "      <td>Botafogo-RJ</td>\n",
              "      <td>Cruzeiro</td>\n",
              "      <td>Mineirão</td>\n",
              "      <td>3</td>\n",
              "      <td>2</td>\n",
              "      <td>MG</td>\n",
              "      <td>RJ</td>\n",
              "      <td>MG</td>\n",
              "    </tr>\n",
              "    <tr>\n",
              "      <th>15</th>\n",
              "      <td>16</td>\n",
              "      <td>2007-08-01</td>\n",
              "      <td>20h30</td>\n",
              "      <td>Quarta-feira</td>\n",
              "      <td>Botafogo-RJ</td>\n",
              "      <td>América-RN</td>\n",
              "      <td>Botafogo-RJ</td>\n",
              "      <td>Engenheiro Araripe</td>\n",
              "      <td>4</td>\n",
              "      <td>2</td>\n",
              "      <td>RJ</td>\n",
              "      <td>RN</td>\n",
              "      <td>RJ</td>\n",
              "    </tr>\n",
              "    <tr>\n",
              "      <th>16</th>\n",
              "      <td>17</td>\n",
              "      <td>2007-08-05</td>\n",
              "      <td>18h10</td>\n",
              "      <td>Domingo</td>\n",
              "      <td>Paraná</td>\n",
              "      <td>Botafogo-RJ</td>\n",
              "      <td>-</td>\n",
              "      <td>Durival de Brito</td>\n",
              "      <td>0</td>\n",
              "      <td>0</td>\n",
              "      <td>PR</td>\n",
              "      <td>RJ</td>\n",
              "      <td>-</td>\n",
              "    </tr>\n",
              "    <tr>\n",
              "      <th>17</th>\n",
              "      <td>18</td>\n",
              "      <td>2007-08-08</td>\n",
              "      <td>21h45</td>\n",
              "      <td>Quarta-feira</td>\n",
              "      <td>Botafogo-RJ</td>\n",
              "      <td>São Paulo</td>\n",
              "      <td>São Paulo</td>\n",
              "      <td>Maracanã</td>\n",
              "      <td>0</td>\n",
              "      <td>2</td>\n",
              "      <td>RJ</td>\n",
              "      <td>SP</td>\n",
              "      <td>SP</td>\n",
              "    </tr>\n",
              "    <tr>\n",
              "      <th>18</th>\n",
              "      <td>19</td>\n",
              "      <td>2007-08-12</td>\n",
              "      <td>16h00</td>\n",
              "      <td>Domingo</td>\n",
              "      <td>Figueirense</td>\n",
              "      <td>Botafogo-RJ</td>\n",
              "      <td>-</td>\n",
              "      <td>Orlando Scarpelli</td>\n",
              "      <td>1</td>\n",
              "      <td>1</td>\n",
              "      <td>SC</td>\n",
              "      <td>RJ</td>\n",
              "      <td>-</td>\n",
              "    </tr>\n",
              "    <tr>\n",
              "      <th>19</th>\n",
              "      <td>7</td>\n",
              "      <td>2007-08-15</td>\n",
              "      <td>21h45</td>\n",
              "      <td>Quarta-feira</td>\n",
              "      <td>Botafogo-RJ</td>\n",
              "      <td>Corinthians</td>\n",
              "      <td>Corinthians</td>\n",
              "      <td>Maracanã</td>\n",
              "      <td>2</td>\n",
              "      <td>3</td>\n",
              "      <td>RJ</td>\n",
              "      <td>SP</td>\n",
              "      <td>SP</td>\n",
              "    </tr>\n",
              "    <tr>\n",
              "      <th>20</th>\n",
              "      <td>20</td>\n",
              "      <td>2007-08-19</td>\n",
              "      <td>18h10</td>\n",
              "      <td>Domingo</td>\n",
              "      <td>Botafogo-RJ</td>\n",
              "      <td>Internacional</td>\n",
              "      <td>-</td>\n",
              "      <td>Maracanã</td>\n",
              "      <td>1</td>\n",
              "      <td>1</td>\n",
              "      <td>RJ</td>\n",
              "      <td>RS</td>\n",
              "      <td>-</td>\n",
              "    </tr>\n",
              "    <tr>\n",
              "      <th>21</th>\n",
              "      <td>21</td>\n",
              "      <td>2007-08-26</td>\n",
              "      <td>16h00</td>\n",
              "      <td>Domingo</td>\n",
              "      <td>Atlético-MG</td>\n",
              "      <td>Botafogo-RJ</td>\n",
              "      <td>Botafogo-RJ</td>\n",
              "      <td>Mineirão</td>\n",
              "      <td>1</td>\n",
              "      <td>2</td>\n",
              "      <td>MG</td>\n",
              "      <td>RJ</td>\n",
              "      <td>RJ</td>\n",
              "    </tr>\n",
              "    <tr>\n",
              "      <th>22</th>\n",
              "      <td>22</td>\n",
              "      <td>2007-08-29</td>\n",
              "      <td>20h30</td>\n",
              "      <td>Quarta-feira</td>\n",
              "      <td>Botafogo-RJ</td>\n",
              "      <td>Flamengo</td>\n",
              "      <td>-</td>\n",
              "      <td>Maracanã</td>\n",
              "      <td>1</td>\n",
              "      <td>1</td>\n",
              "      <td>RJ</td>\n",
              "      <td>RJ</td>\n",
              "      <td>-</td>\n",
              "    </tr>\n",
              "    <tr>\n",
              "      <th>23</th>\n",
              "      <td>23</td>\n",
              "      <td>2007-09-02</td>\n",
              "      <td>16h00</td>\n",
              "      <td>Domingo</td>\n",
              "      <td>Grêmio</td>\n",
              "      <td>Botafogo-RJ</td>\n",
              "      <td>Grêmio</td>\n",
              "      <td>Olímpico Monumental</td>\n",
              "      <td>3</td>\n",
              "      <td>0</td>\n",
              "      <td>RS</td>\n",
              "      <td>RJ</td>\n",
              "      <td>RS</td>\n",
              "    </tr>\n",
              "    <tr>\n",
              "      <th>24</th>\n",
              "      <td>24</td>\n",
              "      <td>2007-09-06</td>\n",
              "      <td>20h30</td>\n",
              "      <td>Quinta-feira</td>\n",
              "      <td>Botafogo-RJ</td>\n",
              "      <td>Palmeiras</td>\n",
              "      <td>-</td>\n",
              "      <td>Maracanã</td>\n",
              "      <td>1</td>\n",
              "      <td>1</td>\n",
              "      <td>RJ</td>\n",
              "      <td>SP</td>\n",
              "      <td>-</td>\n",
              "    </tr>\n",
              "    <tr>\n",
              "      <th>25</th>\n",
              "      <td>25</td>\n",
              "      <td>2007-09-09</td>\n",
              "      <td>19h00</td>\n",
              "      <td>Domingo</td>\n",
              "      <td>Náutico</td>\n",
              "      <td>Botafogo-RJ</td>\n",
              "      <td>Náutico</td>\n",
              "      <td>Aflitos</td>\n",
              "      <td>4</td>\n",
              "      <td>1</td>\n",
              "      <td>PE</td>\n",
              "      <td>RJ</td>\n",
              "      <td>PE</td>\n",
              "    </tr>\n",
              "    <tr>\n",
              "      <th>26</th>\n",
              "      <td>26</td>\n",
              "      <td>2007-09-16</td>\n",
              "      <td>16h00</td>\n",
              "      <td>Domingo</td>\n",
              "      <td>Corinthians</td>\n",
              "      <td>Botafogo-RJ</td>\n",
              "      <td>Botafogo-RJ</td>\n",
              "      <td>Pacaembu</td>\n",
              "      <td>0</td>\n",
              "      <td>1</td>\n",
              "      <td>SP</td>\n",
              "      <td>RJ</td>\n",
              "      <td>RJ</td>\n",
              "    </tr>\n",
              "    <tr>\n",
              "      <th>27</th>\n",
              "      <td>27</td>\n",
              "      <td>2007-09-23</td>\n",
              "      <td>18h10</td>\n",
              "      <td>Domingo</td>\n",
              "      <td>Botafogo-RJ</td>\n",
              "      <td>Fluminense</td>\n",
              "      <td>Fluminense</td>\n",
              "      <td>Maracanã</td>\n",
              "      <td>0</td>\n",
              "      <td>2</td>\n",
              "      <td>RJ</td>\n",
              "      <td>RJ</td>\n",
              "      <td>RJ</td>\n",
              "    </tr>\n",
              "    <tr>\n",
              "      <th>28</th>\n",
              "      <td>28</td>\n",
              "      <td>2007-09-30</td>\n",
              "      <td>16h00</td>\n",
              "      <td>Domingo</td>\n",
              "      <td>Botafogo-RJ</td>\n",
              "      <td>Goiás</td>\n",
              "      <td>Goiás</td>\n",
              "      <td>Maracanã</td>\n",
              "      <td>0</td>\n",
              "      <td>3</td>\n",
              "      <td>RJ</td>\n",
              "      <td>GO</td>\n",
              "      <td>GO</td>\n",
              "    </tr>\n",
              "    <tr>\n",
              "      <th>29</th>\n",
              "      <td>29</td>\n",
              "      <td>2007-10-03</td>\n",
              "      <td>21h45</td>\n",
              "      <td>Quarta-feira</td>\n",
              "      <td>Athlético-PR</td>\n",
              "      <td>Botafogo-RJ</td>\n",
              "      <td>Athlético-PR</td>\n",
              "      <td>Kyocera Arena</td>\n",
              "      <td>2</td>\n",
              "      <td>0</td>\n",
              "      <td>PR</td>\n",
              "      <td>RJ</td>\n",
              "      <td>PR</td>\n",
              "    </tr>\n",
              "    <tr>\n",
              "      <th>30</th>\n",
              "      <td>30</td>\n",
              "      <td>2007-10-06</td>\n",
              "      <td>18h10</td>\n",
              "      <td>Sábado</td>\n",
              "      <td>Botafogo-RJ</td>\n",
              "      <td>Santos</td>\n",
              "      <td>Santos</td>\n",
              "      <td>Engenhão</td>\n",
              "      <td>1</td>\n",
              "      <td>2</td>\n",
              "      <td>RJ</td>\n",
              "      <td>SP</td>\n",
              "      <td>SP</td>\n",
              "    </tr>\n",
              "    <tr>\n",
              "      <th>31</th>\n",
              "      <td>31</td>\n",
              "      <td>2007-10-14</td>\n",
              "      <td>16h00</td>\n",
              "      <td>Domingo</td>\n",
              "      <td>Vasco</td>\n",
              "      <td>Botafogo-RJ</td>\n",
              "      <td>Vasco</td>\n",
              "      <td>Maracanã</td>\n",
              "      <td>2</td>\n",
              "      <td>1</td>\n",
              "      <td>RJ</td>\n",
              "      <td>RJ</td>\n",
              "      <td>RJ</td>\n",
              "    </tr>\n",
              "    <tr>\n",
              "      <th>32</th>\n",
              "      <td>32</td>\n",
              "      <td>2007-10-20</td>\n",
              "      <td>18h10</td>\n",
              "      <td>Sábado</td>\n",
              "      <td>Botafogo-RJ</td>\n",
              "      <td>Sport</td>\n",
              "      <td>Botafogo-RJ</td>\n",
              "      <td>Engenhão</td>\n",
              "      <td>3</td>\n",
              "      <td>1</td>\n",
              "      <td>RJ</td>\n",
              "      <td>PE</td>\n",
              "      <td>RJ</td>\n",
              "    </tr>\n",
              "    <tr>\n",
              "      <th>33</th>\n",
              "      <td>33</td>\n",
              "      <td>2007-10-28</td>\n",
              "      <td>18h10</td>\n",
              "      <td>Domingo</td>\n",
              "      <td>Juventude</td>\n",
              "      <td>Botafogo-RJ</td>\n",
              "      <td>-</td>\n",
              "      <td>Alfredo Jaconi</td>\n",
              "      <td>1</td>\n",
              "      <td>1</td>\n",
              "      <td>RS</td>\n",
              "      <td>RJ</td>\n",
              "      <td>-</td>\n",
              "    </tr>\n",
              "    <tr>\n",
              "      <th>34</th>\n",
              "      <td>34</td>\n",
              "      <td>2007-11-01</td>\n",
              "      <td>20h30</td>\n",
              "      <td>Quinta-feira</td>\n",
              "      <td>Botafogo-RJ</td>\n",
              "      <td>Cruzeiro</td>\n",
              "      <td>Botafogo-RJ</td>\n",
              "      <td>Engenhão</td>\n",
              "      <td>4</td>\n",
              "      <td>1</td>\n",
              "      <td>RJ</td>\n",
              "      <td>MG</td>\n",
              "      <td>RJ</td>\n",
              "    </tr>\n",
              "    <tr>\n",
              "      <th>35</th>\n",
              "      <td>35</td>\n",
              "      <td>2007-11-04</td>\n",
              "      <td>18h10</td>\n",
              "      <td>Domingo</td>\n",
              "      <td>América-RN</td>\n",
              "      <td>Botafogo-RJ</td>\n",
              "      <td>-</td>\n",
              "      <td>Machadão</td>\n",
              "      <td>1</td>\n",
              "      <td>1</td>\n",
              "      <td>RN</td>\n",
              "      <td>RJ</td>\n",
              "      <td>-</td>\n",
              "    </tr>\n",
              "    <tr>\n",
              "      <th>36</th>\n",
              "      <td>36</td>\n",
              "      <td>2007-11-10</td>\n",
              "      <td>18h10</td>\n",
              "      <td>Sábado</td>\n",
              "      <td>Botafogo-RJ</td>\n",
              "      <td>Paraná</td>\n",
              "      <td>Botafogo-RJ</td>\n",
              "      <td>Maracanã</td>\n",
              "      <td>3</td>\n",
              "      <td>2</td>\n",
              "      <td>RJ</td>\n",
              "      <td>PR</td>\n",
              "      <td>RJ</td>\n",
              "    </tr>\n",
              "    <tr>\n",
              "      <th>37</th>\n",
              "      <td>37</td>\n",
              "      <td>2007-11-25</td>\n",
              "      <td>16h00</td>\n",
              "      <td>Domingo</td>\n",
              "      <td>São Paulo</td>\n",
              "      <td>Botafogo-RJ</td>\n",
              "      <td>-</td>\n",
              "      <td>Morumbi</td>\n",
              "      <td>2</td>\n",
              "      <td>2</td>\n",
              "      <td>SP</td>\n",
              "      <td>RJ</td>\n",
              "      <td>-</td>\n",
              "    </tr>\n",
              "    <tr>\n",
              "      <th>38</th>\n",
              "      <td>38</td>\n",
              "      <td>2007-12-02</td>\n",
              "      <td>16h00</td>\n",
              "      <td>Domingo</td>\n",
              "      <td>Botafogo-RJ</td>\n",
              "      <td>Figueirense</td>\n",
              "      <td>-</td>\n",
              "      <td>Engenhão</td>\n",
              "      <td>1</td>\n",
              "      <td>1</td>\n",
              "      <td>RJ</td>\n",
              "      <td>SC</td>\n",
              "      <td>-</td>\n",
              "    </tr>\n",
              "  </tbody>\n",
              "</table>\n",
              "</div>"
            ],
            "text/plain": [
              "   Rodada       Data Horário  ... Estado Mandante Estado Visitante Estado Vencedor\n",
              "0       1 2007-05-13   16h00  ...              RS               RJ              RJ\n",
              "2       2 2007-05-20   16h00  ...              RJ               MG              RJ\n",
              "3       3 2007-05-27   18h10  ...              RJ               RJ               -\n",
              "4       4 2007-06-02   18h10  ...              RJ               RS              RJ\n",
              "5       5 2007-06-09   18h10  ...              SP               RJ               -\n",
              "6      12 2007-06-14   20h30  ...              RJ               RJ              RJ\n",
              "7       6 2007-06-17   18h10  ...              RJ               PE              RJ\n",
              "8       8 2007-06-30   18h10  ...              RJ               RJ              RJ\n",
              "9       9 2007-07-03   21h45  ...              GO               RJ               -\n",
              "10     10 2007-07-07   18h10  ...              RJ               PR              RJ\n",
              "11     11 2007-07-14   16h00  ...              SP               RJ              SP\n",
              "12     14 2007-07-19   15h00  ...              RJ               RS              RJ\n",
              "13     13 2007-07-22   18h10  ...              PE               RJ               -\n",
              "14     15 2007-07-29   18h10  ...              MG               RJ              MG\n",
              "15     16 2007-08-01   20h30  ...              RJ               RN              RJ\n",
              "16     17 2007-08-05   18h10  ...              PR               RJ               -\n",
              "17     18 2007-08-08   21h45  ...              RJ               SP              SP\n",
              "18     19 2007-08-12   16h00  ...              SC               RJ               -\n",
              "19      7 2007-08-15   21h45  ...              RJ               SP              SP\n",
              "20     20 2007-08-19   18h10  ...              RJ               RS               -\n",
              "21     21 2007-08-26   16h00  ...              MG               RJ              RJ\n",
              "22     22 2007-08-29   20h30  ...              RJ               RJ               -\n",
              "23     23 2007-09-02   16h00  ...              RS               RJ              RS\n",
              "24     24 2007-09-06   20h30  ...              RJ               SP               -\n",
              "25     25 2007-09-09   19h00  ...              PE               RJ              PE\n",
              "26     26 2007-09-16   16h00  ...              SP               RJ              RJ\n",
              "27     27 2007-09-23   18h10  ...              RJ               RJ              RJ\n",
              "28     28 2007-09-30   16h00  ...              RJ               GO              GO\n",
              "29     29 2007-10-03   21h45  ...              PR               RJ              PR\n",
              "30     30 2007-10-06   18h10  ...              RJ               SP              SP\n",
              "31     31 2007-10-14   16h00  ...              RJ               RJ              RJ\n",
              "32     32 2007-10-20   18h10  ...              RJ               PE              RJ\n",
              "33     33 2007-10-28   18h10  ...              RS               RJ               -\n",
              "34     34 2007-11-01   20h30  ...              RJ               MG              RJ\n",
              "35     35 2007-11-04   18h10  ...              RN               RJ               -\n",
              "36     36 2007-11-10   18h10  ...              RJ               PR              RJ\n",
              "37     37 2007-11-25   16h00  ...              SP               RJ               -\n",
              "38     38 2007-12-02   16h00  ...              RJ               SC               -\n",
              "\n",
              "[38 rows x 13 columns]"
            ]
          },
          "metadata": {
            "tags": []
          },
          "execution_count": 37
        }
      ]
    },
    {
      "cell_type": "markdown",
      "metadata": {
        "id": "heXzhsmeUF1i"
      },
      "source": [
        "* Continuando com a análise das estatísticas do Botafogo no brasileirão de 2007"
      ]
    },
    {
      "cell_type": "code",
      "metadata": {
        "id": "vSGwKgXLXSdZ"
      },
      "source": [
        "# Jogos do Botafogo que foram empate\n",
        "jogos_botafogo_empate = jogos_botafogo.loc[jogos_botafogo['Vencedor'] == '-']"
      ],
      "execution_count": 38,
      "outputs": []
    },
    {
      "cell_type": "code",
      "metadata": {
        "colab": {
          "base_uri": "https://localhost:8080/"
        },
        "id": "gu-1KD2o9_eI",
        "outputId": "56a5e6f1-0163-463b-90b2-9aa685f37544"
      },
      "source": [
        "#Jogos que o Botafogo empatou\n",
        "jogos_botafogo_empate.value_counts()\n"
      ],
      "execution_count": 39,
      "outputs": [
        {
          "output_type": "execute_result",
          "data": {
            "text/plain": [
              "Rodada  Data        Horário  Dia           Mandante     Visitante      Vencedor  Arena              Mandante Placar  Visitante Placar  Estado Mandante  Estado Visitante  Estado Vencedor\n",
              "9       2007-07-03  21h45    Terça-feira   Goiás        Botafogo-RJ    -         Serra Dourada      1                1                 GO               RJ                -                  1\n",
              "5       2007-06-09  18h10    Sábado        Palmeiras    Botafogo-RJ    -         Parque Antártica   1                1                 SP               RJ                -                  1\n",
              "38      2007-12-02  16h00    Domingo       Botafogo-RJ  Figueirense    -         Engenhão           1                1                 RJ               SC                -                  1\n",
              "37      2007-11-25  16h00    Domingo       São Paulo    Botafogo-RJ    -         Morumbi            2                2                 SP               RJ                -                  1\n",
              "35      2007-11-04  18h10    Domingo       América-RN   Botafogo-RJ    -         Machadão           1                1                 RN               RJ                -                  1\n",
              "33      2007-10-28  18h10    Domingo       Juventude    Botafogo-RJ    -         Alfredo Jaconi     1                1                 RS               RJ                -                  1\n",
              "3       2007-05-27  18h10    Domingo       Flamengo     Botafogo-RJ    -         Maracanã           2                2                 RJ               RJ                -                  1\n",
              "24      2007-09-06  20h30    Quinta-feira  Botafogo-RJ  Palmeiras      -         Maracanã           1                1                 RJ               SP                -                  1\n",
              "22      2007-08-29  20h30    Quarta-feira  Botafogo-RJ  Flamengo       -         Maracanã           1                1                 RJ               RJ                -                  1\n",
              "20      2007-08-19  18h10    Domingo       Botafogo-RJ  Internacional  -         Maracanã           1                1                 RJ               RS                -                  1\n",
              "19      2007-08-12  16h00    Domingo       Figueirense  Botafogo-RJ    -         Orlando Scarpelli  1                1                 SC               RJ                -                  1\n",
              "17      2007-08-05  18h10    Domingo       Paraná       Botafogo-RJ    -         Durival de Brito   0                0                 PR               RJ                -                  1\n",
              "13      2007-07-22  18h10    Domingo       Sport        Botafogo-RJ    -         Ilha do Retiro     3                3                 PE               RJ                -                  1\n",
              "dtype: int64"
            ]
          },
          "metadata": {
            "tags": []
          },
          "execution_count": 39
        }
      ]
    },
    {
      "cell_type": "code",
      "metadata": {
        "colab": {
          "base_uri": "https://localhost:8080/"
        },
        "id": "t7u_byNG-XEX",
        "outputId": "ea724d07-b33d-4664-88a4-5a6f175c8c3e"
      },
      "source": [
        "#Total de empates\n",
        "jogos_botafogo_empate.value_counts().count()\n"
      ],
      "execution_count": 40,
      "outputs": [
        {
          "output_type": "execute_result",
          "data": {
            "text/plain": [
              "13"
            ]
          },
          "metadata": {
            "tags": []
          },
          "execution_count": 40
        }
      ]
    },
    {
      "cell_type": "markdown",
      "metadata": {
        "id": "nAwUOgl69UL4"
      },
      "source": [
        "* O Botafogo empatou 13 vezes"
      ]
    },
    {
      "cell_type": "code",
      "metadata": {
        "id": "4zCt5fwd-Zhb"
      },
      "source": [
        "#Vitórias do Botafogo\n",
        "jogos_botafogo_vitoria = jogos_botafogo.loc[jogos_botafogo['Vencedor'] == 'Botafogo-RJ']"
      ],
      "execution_count": 41,
      "outputs": []
    },
    {
      "cell_type": "code",
      "metadata": {
        "id": "iI9qn5R3aunq",
        "colab": {
          "base_uri": "https://localhost:8080/"
        },
        "outputId": "93446ab9-a0ea-454d-842a-2ce901bd855c"
      },
      "source": [
        "# Jogos que o Botafogo ganhou\n",
        "jogos_botafogo_vitoria.value_counts()"
      ],
      "execution_count": 42,
      "outputs": [
        {
          "output_type": "execute_result",
          "data": {
            "text/plain": [
              "Rodada  Data        Horário  Dia           Mandante       Visitante     Vencedor     Arena               Mandante Placar  Visitante Placar  Estado Mandante  Estado Visitante  Estado Vencedor\n",
              "8       2007-06-30  18h10    Sábado        Fluminense     Botafogo-RJ   Botafogo-RJ  Engenhão            1                2                 RJ               RJ                RJ                 1\n",
              "6       2007-06-17  18h10    Domingo       Botafogo-RJ    Náutico       Botafogo-RJ  Maracanã            3                1                 RJ               PE                RJ                 1\n",
              "4       2007-06-02  18h10    Sábado        Botafogo-RJ    Grêmio        Botafogo-RJ  Maracanã            3                0                 RJ               RS                RJ                 1\n",
              "36      2007-11-10  18h10    Sábado        Botafogo-RJ    Paraná        Botafogo-RJ  Maracanã            3                2                 RJ               PR                RJ                 1\n",
              "34      2007-11-01  20h30    Quinta-feira  Botafogo-RJ    Cruzeiro      Botafogo-RJ  Engenhão            4                1                 RJ               MG                RJ                 1\n",
              "32      2007-10-20  18h10    Sábado        Botafogo-RJ    Sport         Botafogo-RJ  Engenhão            3                1                 RJ               PE                RJ                 1\n",
              "26      2007-09-16  16h00    Domingo       Corinthians    Botafogo-RJ   Botafogo-RJ  Pacaembu            0                1                 SP               RJ                RJ                 1\n",
              "21      2007-08-26  16h00    Domingo       Atlético-MG    Botafogo-RJ   Botafogo-RJ  Mineirão            1                2                 MG               RJ                RJ                 1\n",
              "2       2007-05-20  16h00    Domingo       Botafogo-RJ    Atlético-MG   Botafogo-RJ  Maracanã            2                1                 RJ               MG                RJ                 1\n",
              "16      2007-08-01  20h30    Quarta-feira  Botafogo-RJ    América-RN    Botafogo-RJ  Engenheiro Araripe  4                2                 RJ               RN                RJ                 1\n",
              "14      2007-07-19  15h00    Quinta-feira  Botafogo-RJ    Juventude     Botafogo-RJ  Giulite Coutinho    3                1                 RJ               RS                RJ                 1\n",
              "12      2007-06-14  20h30    Quinta-feira  Botafogo-RJ    Vasco         Botafogo-RJ  Maracanã            4                0                 RJ               RJ                RJ                 1\n",
              "10      2007-07-07  18h10    Sábado        Botafogo-RJ    Athlético-PR  Botafogo-RJ  Mané Garrincha      2                0                 RJ               PR                RJ                 1\n",
              "1       2007-05-13  16h00    Domingo       Internacional  Botafogo-RJ   Botafogo-RJ  Beira Rio           2                3                 RS               RJ                RJ                 1\n",
              "dtype: int64"
            ]
          },
          "metadata": {
            "tags": []
          },
          "execution_count": 42
        }
      ]
    },
    {
      "cell_type": "code",
      "metadata": {
        "id": "MAmpr9IK-01n",
        "colab": {
          "base_uri": "https://localhost:8080/"
        },
        "outputId": "03be132a-6637-419e-9ff8-e7f133e1c6b5"
      },
      "source": [
        "# Total de vitórias\n",
        "jogos_botafogo_vitoria.value_counts().sum()"
      ],
      "execution_count": 43,
      "outputs": [
        {
          "output_type": "execute_result",
          "data": {
            "text/plain": [
              "14"
            ]
          },
          "metadata": {
            "tags": []
          },
          "execution_count": 43
        }
      ]
    },
    {
      "cell_type": "markdown",
      "metadata": {
        "id": "goKaMb7EV3_7"
      },
      "source": [
        "* O Botafogo venceu 14 partidas"
      ]
    },
    {
      "cell_type": "code",
      "metadata": {
        "id": "oBGMtM-XWC71"
      },
      "source": [
        "# Derrotas do Botafogo\n",
        "jogos_botafogo_derrota = jogos_botafogo.loc[((jogos_botafogo.Vencedor != 'Botafogo-RJ') & (jogos_botafogo.Vencedor != '-'))]"
      ],
      "execution_count": 44,
      "outputs": []
    },
    {
      "cell_type": "code",
      "metadata": {
        "colab": {
          "base_uri": "https://localhost:8080/"
        },
        "id": "AvE6o5S9_JlQ",
        "outputId": "d268b6f4-d5e8-423c-f926-a5c5e9bd6d55"
      },
      "source": [
        "# Jogos que o Botafogo perdeu\n",
        "jogos_botafogo_derrota.value_counts()"
      ],
      "execution_count": 45,
      "outputs": [
        {
          "output_type": "execute_result",
          "data": {
            "text/plain": [
              "Rodada  Data        Horário  Dia           Mandante      Visitante    Vencedor      Arena                Mandante Placar  Visitante Placar  Estado Mandante  Estado Visitante  Estado Vencedor\n",
              "7       2007-08-15  21h45    Quarta-feira  Botafogo-RJ   Corinthians  Corinthians   Maracanã             2                3                 RJ               SP                SP                 1\n",
              "31      2007-10-14  16h00    Domingo       Vasco         Botafogo-RJ  Vasco         Maracanã             2                1                 RJ               RJ                RJ                 1\n",
              "30      2007-10-06  18h10    Sábado        Botafogo-RJ   Santos       Santos        Engenhão             1                2                 RJ               SP                SP                 1\n",
              "29      2007-10-03  21h45    Quarta-feira  Athlético-PR  Botafogo-RJ  Athlético-PR  Kyocera Arena        2                0                 PR               RJ                PR                 1\n",
              "28      2007-09-30  16h00    Domingo       Botafogo-RJ   Goiás        Goiás         Maracanã             0                3                 RJ               GO                GO                 1\n",
              "27      2007-09-23  18h10    Domingo       Botafogo-RJ   Fluminense   Fluminense    Maracanã             0                2                 RJ               RJ                RJ                 1\n",
              "25      2007-09-09  19h00    Domingo       Náutico       Botafogo-RJ  Náutico       Aflitos              4                1                 PE               RJ                PE                 1\n",
              "23      2007-09-02  16h00    Domingo       Grêmio        Botafogo-RJ  Grêmio        Olímpico Monumental  3                0                 RS               RJ                RS                 1\n",
              "18      2007-08-08  21h45    Quarta-feira  Botafogo-RJ   São Paulo    São Paulo     Maracanã             0                2                 RJ               SP                SP                 1\n",
              "15      2007-07-29  18h10    Domingo       Cruzeiro      Botafogo-RJ  Cruzeiro      Mineirão             3                2                 MG               RJ                MG                 1\n",
              "11      2007-07-14  16h00    Sábado        Santos        Botafogo-RJ  Santos        Vila Belmiro         3                0                 SP               RJ                SP                 1\n",
              "dtype: int64"
            ]
          },
          "metadata": {
            "tags": []
          },
          "execution_count": 45
        }
      ]
    },
    {
      "cell_type": "code",
      "metadata": {
        "colab": {
          "base_uri": "https://localhost:8080/"
        },
        "id": "pHplE4JM_RWC",
        "outputId": "d17e5c54-eb38-46d9-fd75-b16ec2c3b473"
      },
      "source": [
        "# Total de derrotas\n",
        "jogos_botafogo_derrota.value_counts().count()"
      ],
      "execution_count": 46,
      "outputs": [
        {
          "output_type": "execute_result",
          "data": {
            "text/plain": [
              "11"
            ]
          },
          "metadata": {
            "tags": []
          },
          "execution_count": 46
        }
      ]
    },
    {
      "cell_type": "markdown",
      "metadata": {
        "id": "OSvdLtd2Zy-f"
      },
      "source": [
        "* O Botafogo perdeu 11 jogos no campeonato"
      ]
    },
    {
      "cell_type": "markdown",
      "metadata": {
        "id": "F3LLvuAAl_Fs"
      },
      "source": [
        "# Gráficos e estatísticas"
      ]
    },
    {
      "cell_type": "markdown",
      "metadata": {
        "id": "M3371hnDmKjk"
      },
      "source": [
        "* Analisando vitórias do Botafogo"
      ]
    },
    {
      "cell_type": "code",
      "metadata": {
        "id": "NrXfZZ-rm9X6",
        "colab": {
          "base_uri": "https://localhost:8080/"
        },
        "outputId": "dcbbd535-5880-4daa-92b5-6055b8b17878"
      },
      "source": [
        "# Vitórias do Botafogo jogando como mandante\n",
        "jogos_botafogo_vitoria_mandante = jogos_botafogo.loc[((jogos_botafogo['Vencedor'] == 'Botafogo-RJ') & (jogos_botafogo['Mandante'] == 'Botafogo-RJ'))]\n",
        "jogos_botafogo_vitoria_mandante.value_counts().sum()"
      ],
      "execution_count": 47,
      "outputs": [
        {
          "output_type": "execute_result",
          "data": {
            "text/plain": [
              "10"
            ]
          },
          "metadata": {
            "tags": []
          },
          "execution_count": 47
        }
      ]
    },
    {
      "cell_type": "code",
      "metadata": {
        "id": "7x56_IblnA5b",
        "colab": {
          "base_uri": "https://localhost:8080/"
        },
        "outputId": "7cb91646-b061-4d54-f0ea-b0e27c01b862"
      },
      "source": [
        "# Vitórias do Botafogo jogando como visitante\n",
        "jogos_botafogo_vitoria_visitante = jogos_botafogo.loc[((jogos_botafogo['Vencedor'] == 'Botafogo-RJ') & (jogos_botafogo['Visitante'] == 'Botafogo-RJ'))]\n",
        "jogos_botafogo_vitoria_visitante.value_counts().sum()"
      ],
      "execution_count": 48,
      "outputs": [
        {
          "output_type": "execute_result",
          "data": {
            "text/plain": [
              "4"
            ]
          },
          "metadata": {
            "tags": []
          },
          "execution_count": 48
        }
      ]
    },
    {
      "cell_type": "code",
      "metadata": {
        "colab": {
          "base_uri": "https://localhost:8080/",
          "height": 248
        },
        "id": "bStb4WWbl2Rj",
        "outputId": "94e08463-dc4f-4442-9038-fab72485a038"
      },
      "source": [
        "# Gráfico de pizza vitórias do Botafogo\n",
        "%matplotlib inline\n",
        "\n",
        "vitorias = [jogos_botafogo_vitoria_mandante.value_counts().sum(), jogos_botafogo_vitoria_visitante.value_counts().sum() ]\n",
        "labels = ['Vitórias como Mandante', 'Vitórias como Visitante' ]\n",
        "\n",
        "# Separar e dar foco nas partes do gráfico\n",
        "explode = (0.1, 0)\n",
        "\n",
        "plt.pie(vitorias, labels=labels, autopct='%1.1f%%', shadow= True, explode=explode,)\n",
        "plt.legend(labels, loc=1)\n",
        "\n",
        "plt.axis('equal')\n",
        "plt.show()"
      ],
      "execution_count": 49,
      "outputs": [
        {
          "output_type": "display_data",
          "data": {
            "image/png": "[encoded data removed]",
            "text/plain": [
              "<Figure size 432x288 with 1 Axes>"
            ]
          },
          "metadata": {
            "tags": []
          }
        }
      ]
    },
    {
      "cell_type": "markdown",
      "metadata": {
        "id": "c3EqustrnF_5"
      },
      "source": [
        "* Analisando empates do Botafogo"
      ]
    },
    {
      "cell_type": "code",
      "metadata": {
        "colab": {
          "base_uri": "https://localhost:8080/"
        },
        "id": "eCah7DNznKpr",
        "outputId": "b67af9f8-7f3b-4e11-e8d5-71fb378791c1"
      },
      "source": [
        "# Empates do Botafogo jogando como mandante\n",
        "jogos_botafogo_empate_mandante = jogos_botafogo.loc[(jogos_botafogo.Vencedor == '-') & (jogos_botafogo.Mandante == 'Botafogo-RJ')]\n",
        "jogos_botafogo_empate_mandante.value_counts().sum()"
      ],
      "execution_count": 50,
      "outputs": [
        {
          "output_type": "execute_result",
          "data": {
            "text/plain": [
              "4"
            ]
          },
          "metadata": {
            "tags": []
          },
          "execution_count": 50
        }
      ]
    },
    {
      "cell_type": "code",
      "metadata": {
        "colab": {
          "base_uri": "https://localhost:8080/"
        },
        "id": "sEkz3xx6oKlQ",
        "outputId": "1eb06a2a-e4c6-413d-9c6e-6a1cf486d1a7"
      },
      "source": [
        "# Empates do Botafogo jogando como visitante\n",
        "jogos_botafogo_empate_visitante = jogos_botafogo.loc[(jogos_botafogo.Vencedor == '-') & (jogos_botafogo.Visitante == 'Botafogo-RJ')]\n",
        "jogos_botafogo_empate_visitante.value_counts().sum()"
      ],
      "execution_count": 51,
      "outputs": [
        {
          "output_type": "execute_result",
          "data": {
            "text/plain": [
              "9"
            ]
          },
          "metadata": {
            "tags": []
          },
          "execution_count": 51
        }
      ]
    },
    {
      "cell_type": "code",
      "metadata": {
        "colab": {
          "base_uri": "https://localhost:8080/",
          "height": 248
        },
        "id": "KudpqMcNms8C",
        "outputId": "55a1f289-ff68-4978-d7aa-67bc880c701d"
      },
      "source": [
        "# Gráfico de pizza empates do Botafogo\n",
        "\n",
        "empates = [jogos_botafogo_empate_mandante.value_counts().sum(), jogos_botafogo_empate_visitante.value_counts().sum()]\n",
        "labels = ('Empates em Casa', 'Empates Fora de Casa')\n",
        "\n",
        "# Separar e dar foco nas partes do gráfico\n",
        "explode = (0.1, 0)\n",
        "\n",
        "plt.pie(empates, labels = labels, autopct= '%1.1f%%', explode = explode, shadow=True)\n",
        "plt.legend(labels, loc=2)\n",
        "\n",
        "plt.axis('equal')\n",
        "plt.show()"
      ],
      "execution_count": 52,
      "outputs": [
        {
          "output_type": "display_data",
          "data": {
            "image/png": "[encoded data removed]",
            "text/plain": [
              "<Figure size 432x288 with 1 Axes>"
            ]
          },
          "metadata": {
            "tags": []
          }
        }
      ]
    },
    {
      "cell_type": "markdown",
      "metadata": {
        "id": "UhIUwJlMrTKI"
      },
      "source": [
        "* Analisando derrotas do Botafogo"
      ]
    },
    {
      "cell_type": "code",
      "metadata": {
        "colab": {
          "base_uri": "https://localhost:8080/"
        },
        "id": "6CJgvZfnrBQ8",
        "outputId": "1791beb7-f660-46c5-ce4d-6f731eb95d32"
      },
      "source": [
        "# Derrotas do Botafogo jogando como mandante\n",
        "jogos_botafogo_derrota_mandante = jogos_botafogo.loc[(jogos_botafogo.Vencedor != 'Botafogo-RJ') & (jogos_botafogo.Vencedor != '-') & (jogos_botafogo.Mandante == 'Botafogo-RJ')]\n",
        "jogos_botafogo_derrota_mandante.value_counts().sum()"
      ],
      "execution_count": 53,
      "outputs": [
        {
          "output_type": "execute_result",
          "data": {
            "text/plain": [
              "5"
            ]
          },
          "metadata": {
            "tags": []
          },
          "execution_count": 53
        }
      ]
    },
    {
      "cell_type": "code",
      "metadata": {
        "colab": {
          "base_uri": "https://localhost:8080/"
        },
        "id": "37-KLxOYsT-y",
        "outputId": "90083bfb-270f-4666-f97e-843297172e54"
      },
      "source": [
        "# Derrotas do Botafogo jogando como visitante\n",
        "jogos_botafogo_derrota_visitante = jogos_botafogo.loc[(jogos_botafogo.Vencedor != 'Botafogo-RJ') & (jogos_botafogo.Vencedor != '-') & (jogos_botafogo.Visitante == 'Botafogo-RJ')]\n",
        "jogos_botafogo_derrota_visitante.value_counts()"
      ],
      "execution_count": 54,
      "outputs": [
        {
          "output_type": "execute_result",
          "data": {
            "text/plain": [
              "Rodada  Data        Horário  Dia           Mandante      Visitante    Vencedor      Arena                Mandante Placar  Visitante Placar  Estado Mandante  Estado Visitante  Estado Vencedor\n",
              "31      2007-10-14  16h00    Domingo       Vasco         Botafogo-RJ  Vasco         Maracanã             2                1                 RJ               RJ                RJ                 1\n",
              "29      2007-10-03  21h45    Quarta-feira  Athlético-PR  Botafogo-RJ  Athlético-PR  Kyocera Arena        2                0                 PR               RJ                PR                 1\n",
              "25      2007-09-09  19h00    Domingo       Náutico       Botafogo-RJ  Náutico       Aflitos              4                1                 PE               RJ                PE                 1\n",
              "23      2007-09-02  16h00    Domingo       Grêmio        Botafogo-RJ  Grêmio        Olímpico Monumental  3                0                 RS               RJ                RS                 1\n",
              "15      2007-07-29  18h10    Domingo       Cruzeiro      Botafogo-RJ  Cruzeiro      Mineirão             3                2                 MG               RJ                MG                 1\n",
              "11      2007-07-14  16h00    Sábado        Santos        Botafogo-RJ  Santos        Vila Belmiro         3                0                 SP               RJ                SP                 1\n",
              "dtype: int64"
            ]
          },
          "metadata": {
            "tags": []
          },
          "execution_count": 54
        }
      ]
    },
    {
      "cell_type": "code",
      "metadata": {
        "colab": {
          "base_uri": "https://localhost:8080/",
          "height": 252
        },
        "id": "YunTXKgKtNol",
        "outputId": "9b442dc0-bb55-4f9b-fe21-4a550f91c20e"
      },
      "source": [
        "# Gráfico de pizza derrotas do Botafogo\n",
        "\n",
        "empates = [jogos_botafogo_derrota_mandante.value_counts().sum(), jogos_botafogo_derrota_visitante.value_counts().sum()]\n",
        "labels = ('Derrotas em Casa', 'Derrotas Fora de Casa')\n",
        "\n",
        "# Separar e dar foco nas partes do gráfico\n",
        "explode = (0.1, 0)\n",
        "\n",
        "plt.pie(empates, labels = labels, autopct= '%1.1f%%', explode = explode, shadow=True)\n",
        "plt.legend(labels, loc=2)\n",
        "\n",
        "plt.axis('equal')\n",
        "plt.show()"
      ],
      "execution_count": 55,
      "outputs": [
        {
          "output_type": "display_data",
          "data": {
            "image/png": "[encoded data removed]",
            "text/plain": [
              "<Figure size 432x288 with 1 Axes>"
            ]
          },
          "metadata": {
            "tags": []
          }
        }
      ]
    },
    {
      "cell_type": "markdown",
      "metadata": {
        "id": "3fKfuCCqd7HS"
      },
      "source": [
        "* Analisando os gols marcados no campeonato"
      ]
    },
    {
      "cell_type": "code",
      "metadata": {
        "colab": {
          "base_uri": "https://localhost:8080/"
        },
        "id": "Qlv8Xc9Eut2N",
        "outputId": "553d3dc9-03b4-4452-c953-ef3cda7802af"
      },
      "source": [
        "# Jogos do Botafogo como mandadante\n",
        "jogos_botafogo_mandante = jogos_botafogo.loc[jogos_botafogo['Mandante'] == 'Botafogo-RJ']\n",
        "\n",
        "# Total de gols marcados pelo Botafogo como mandante\n",
        "total_gol_mandante = jogos_botafogo_mandante['Mandante Placar'].sum()\n",
        "total_gol_mandante"
      ],
      "execution_count": 56,
      "outputs": [
        {
          "output_type": "execute_result",
          "data": {
            "text/plain": [
              "38"
            ]
          },
          "metadata": {
            "tags": []
          },
          "execution_count": 56
        }
      ]
    },
    {
      "cell_type": "code",
      "metadata": {
        "colab": {
          "base_uri": "https://localhost:8080/"
        },
        "id": "-f9y_5Ku3wUn",
        "outputId": "0e97c3e8-3f4d-42b8-86ed-9630ae200cb4"
      },
      "source": [
        "# Jogos do Botafogo como visitante\n",
        "jogos_botafogo_visitante = jogos_botafogo.loc[jogos_botafogo['Visitante'] == 'Botafogo-RJ']\n",
        "\n",
        "#Total de gols marcados pelo Botafogo como visitante\n",
        "total_gol_visitante = jogos_botafogo_visitante['Visitante Placar'].sum()\n",
        "total_gol_visitante"
      ],
      "execution_count": 57,
      "outputs": [
        {
          "output_type": "execute_result",
          "data": {
            "text/plain": [
              "24"
            ]
          },
          "metadata": {
            "tags": []
          },
          "execution_count": 57
        }
      ]
    },
    {
      "cell_type": "code",
      "metadata": {
        "colab": {
          "base_uri": "https://localhost:8080/"
        },
        "id": "X1vdx09i4HfD",
        "outputId": "7edb3233-78eb-47cc-d3a1-d270a8dc94a0"
      },
      "source": [
        "# Total geral de gols marcados pelo Botafogo no campeonato\n",
        "total_gol_mandante + total_gol_visitante"
      ],
      "execution_count": 58,
      "outputs": [
        {
          "output_type": "execute_result",
          "data": {
            "text/plain": [
              "62"
            ]
          },
          "metadata": {
            "tags": []
          },
          "execution_count": 58
        }
      ]
    },
    {
      "cell_type": "code",
      "metadata": {
        "colab": {
          "base_uri": "https://localhost:8080/",
          "height": 281
        },
        "id": "O1V3RycS6e9R",
        "outputId": "eea3ad59-f33b-4e15-ccd5-32f7b53fa9f6"
      },
      "source": [
        "# Gráficos de todos os gols\n",
        "plt.title(label='Gols do Botafogo')\n",
        "gol = ['Gols como mandante', 'Gols como visitante']\n",
        "total_gol = [total_gol_mandante, total_gol_visitante]\n",
        "\n",
        "plt.bar(gol, total_gol)\n",
        "\n",
        "plt.show()"
      ],
      "execution_count": 59,
      "outputs": [
        {
          "output_type": "display_data",
          "data": {
            "image/png": "[encoded data removed]",
            "text/plain": [
              "<Figure size 432x288 with 1 Axes>"
            ]
          },
          "metadata": {
            "tags": [],
            "needs_background": "light"
          }
        }
      ]
    },
    {
      "cell_type": "code",
      "metadata": {
        "colab": {
          "base_uri": "https://localhost:8080/"
        },
        "id": "wIJ0jRhWsnxK",
        "outputId": "03f89539-5ca5-4c73-b36e-436c3f5c4a21"
      },
      "source": [
        "jogos_botafogo.info()"
      ],
      "execution_count": 60,
      "outputs": [
        {
          "output_type": "stream",
          "text": [
            "<class 'pandas.core.frame.DataFrame'>\n",
            "Int64Index: 38 entries, 0 to 38\n",
            "Data columns (total 13 columns):\n",
            " #   Column            Non-Null Count  Dtype         \n",
            "---  ------            --------------  -----         \n",
            " 0   Rodada            38 non-null     object        \n",
            " 1   Data              38 non-null     datetime64[ns]\n",
            " 2   Horário           38 non-null     object        \n",
            " 3   Dia               38 non-null     object        \n",
            " 4   Mandante          38 non-null     object        \n",
            " 5   Visitante         38 non-null     object        \n",
            " 6   Vencedor          38 non-null     object        \n",
            " 7   Arena             38 non-null     object        \n",
            " 8   Mandante Placar   38 non-null     int64         \n",
            " 9   Visitante Placar  38 non-null     int64         \n",
            " 10  Estado Mandante   38 non-null     object        \n",
            " 11  Estado Visitante  38 non-null     object        \n",
            " 12  Estado Vencedor   38 non-null     object        \n",
            "dtypes: datetime64[ns](1), int64(2), object(10)\n",
            "memory usage: 4.2+ KB\n"
          ],
          "name": "stdout"
        }
      ]
    },
    {
      "cell_type": "code",
      "metadata": {
        "colab": {
          "base_uri": "https://localhost:8080/"
        },
        "id": "97Nc0_Xqfkao",
        "outputId": "d990a5a7-7e88-4733-f0dd-b2477262127d"
      },
      "source": [
        "# Converter coluna Rodada para int32\n",
        "jogos_botafogo.Rodada = jogos_botafogo.Rodada.astype('int32')"
      ],
      "execution_count": 61,
      "outputs": [
        {
          "output_type": "stream",
          "text": [
            "/usr/local/lib/python3.7/dist-packages/pandas/core/generic.py:5170: SettingWithCopyWarning: \n",
            "A value is trying to be set on a copy of a slice from a DataFrame.\n",
            "Try using .loc[row_indexer,col_indexer] = value instead\n",
            "\n",
            "See the caveats in the documentation: https://pandas.pydata.org/pandas-docs/stable/user_guide/indexing.html#returning-a-view-versus-a-copy\n",
            "  self[name] = value\n"
          ],
          "name": "stderr"
        }
      ]
    },
    {
      "cell_type": "code",
      "metadata": {
        "colab": {
          "base_uri": "https://localhost:8080/"
        },
        "id": "vXztlnuuxKcw",
        "outputId": "d0c48964-1c38-4cc2-d8ce-1d218a38333c"
      },
      "source": [
        "# Criar coluna 'Gol Botafogo Mandante'\n",
        "jogos_botafogo['Gol Botafogo Mandante'] = '0'"
      ],
      "execution_count": 62,
      "outputs": [
        {
          "output_type": "stream",
          "text": [
            "/usr/local/lib/python3.7/dist-packages/ipykernel_launcher.py:2: SettingWithCopyWarning: \n",
            "A value is trying to be set on a copy of a slice from a DataFrame.\n",
            "Try using .loc[row_indexer,col_indexer] = value instead\n",
            "\n",
            "See the caveats in the documentation: https://pandas.pydata.org/pandas-docs/stable/user_guide/indexing.html#returning-a-view-versus-a-copy\n",
            "  \n"
          ],
          "name": "stderr"
        }
      ]
    },
    {
      "cell_type": "code",
      "metadata": {
        "colab": {
          "base_uri": "https://localhost:8080/"
        },
        "id": "TVX2pjKxsKq3",
        "outputId": "ac60fa99-6c61-4ebd-b5de-04094a9f9926"
      },
      "source": [
        "# Criar coluna Gol Botafogo Visitante\n",
        "jogos_botafogo['Gol Botafogo Visitante'] = '0'"
      ],
      "execution_count": 63,
      "outputs": [
        {
          "output_type": "stream",
          "text": [
            "/usr/local/lib/python3.7/dist-packages/ipykernel_launcher.py:2: SettingWithCopyWarning: \n",
            "A value is trying to be set on a copy of a slice from a DataFrame.\n",
            "Try using .loc[row_indexer,col_indexer] = value instead\n",
            "\n",
            "See the caveats in the documentation: https://pandas.pydata.org/pandas-docs/stable/user_guide/indexing.html#returning-a-view-versus-a-copy\n",
            "  \n"
          ],
          "name": "stderr"
        }
      ]
    },
    {
      "cell_type": "code",
      "metadata": {
        "colab": {
          "base_uri": "https://localhost:8080/",
          "height": 323
        },
        "id": "7_1b1gwN1IhP",
        "outputId": "1192a6fa-c55a-43b1-8c5e-cfb5894e9929"
      },
      "source": [
        "jogos_botafogo.head()"
      ],
      "execution_count": 64,
      "outputs": [
        {
          "output_type": "execute_result",
          "data": {
            "text/html": [
              "<div>\n",
              "<style scoped>\n",
              "    .dataframe tbody tr th:only-of-type {\n",
              "        vertical-align: middle;\n",
              "    }\n",
              "\n",
              "    .dataframe tbody tr th {\n",
              "        vertical-align: top;\n",
              "    }\n",
              "\n",
              "    .dataframe thead th {\n",
              "        text-align: right;\n",
              "    }\n",
              "</style>\n",
              "<table border=\"1\" class=\"dataframe\">\n",
              "  <thead>\n",
              "    <tr style=\"text-align: right;\">\n",
              "      <th></th>\n",
              "      <th>Rodada</th>\n",
              "      <th>Data</th>\n",
              "      <th>Horário</th>\n",
              "      <th>Dia</th>\n",
              "      <th>Mandante</th>\n",
              "      <th>Visitante</th>\n",
              "      <th>Vencedor</th>\n",
              "      <th>Arena</th>\n",
              "      <th>Mandante Placar</th>\n",
              "      <th>Visitante Placar</th>\n",
              "      <th>Estado Mandante</th>\n",
              "      <th>Estado Visitante</th>\n",
              "      <th>Estado Vencedor</th>\n",
              "      <th>Gol Botafogo Mandante</th>\n",
              "      <th>Gol Botafogo Visitante</th>\n",
              "    </tr>\n",
              "  </thead>\n",
              "  <tbody>\n",
              "    <tr>\n",
              "      <th>0</th>\n",
              "      <td>1</td>\n",
              "      <td>2007-05-13</td>\n",
              "      <td>16h00</td>\n",
              "      <td>Domingo</td>\n",
              "      <td>Internacional</td>\n",
              "      <td>Botafogo-RJ</td>\n",
              "      <td>Botafogo-RJ</td>\n",
              "      <td>Beira Rio</td>\n",
              "      <td>2</td>\n",
              "      <td>3</td>\n",
              "      <td>RS</td>\n",
              "      <td>RJ</td>\n",
              "      <td>RJ</td>\n",
              "      <td>0</td>\n",
              "      <td>0</td>\n",
              "    </tr>\n",
              "    <tr>\n",
              "      <th>2</th>\n",
              "      <td>2</td>\n",
              "      <td>2007-05-20</td>\n",
              "      <td>16h00</td>\n",
              "      <td>Domingo</td>\n",
              "      <td>Botafogo-RJ</td>\n",
              "      <td>Atlético-MG</td>\n",
              "      <td>Botafogo-RJ</td>\n",
              "      <td>Maracanã</td>\n",
              "      <td>2</td>\n",
              "      <td>1</td>\n",
              "      <td>RJ</td>\n",
              "      <td>MG</td>\n",
              "      <td>RJ</td>\n",
              "      <td>0</td>\n",
              "      <td>0</td>\n",
              "    </tr>\n",
              "    <tr>\n",
              "      <th>3</th>\n",
              "      <td>3</td>\n",
              "      <td>2007-05-27</td>\n",
              "      <td>18h10</td>\n",
              "      <td>Domingo</td>\n",
              "      <td>Flamengo</td>\n",
              "      <td>Botafogo-RJ</td>\n",
              "      <td>-</td>\n",
              "      <td>Maracanã</td>\n",
              "      <td>2</td>\n",
              "      <td>2</td>\n",
              "      <td>RJ</td>\n",
              "      <td>RJ</td>\n",
              "      <td>-</td>\n",
              "      <td>0</td>\n",
              "      <td>0</td>\n",
              "    </tr>\n",
              "    <tr>\n",
              "      <th>4</th>\n",
              "      <td>4</td>\n",
              "      <td>2007-06-02</td>\n",
              "      <td>18h10</td>\n",
              "      <td>Sábado</td>\n",
              "      <td>Botafogo-RJ</td>\n",
              "      <td>Grêmio</td>\n",
              "      <td>Botafogo-RJ</td>\n",
              "      <td>Maracanã</td>\n",
              "      <td>3</td>\n",
              "      <td>0</td>\n",
              "      <td>RJ</td>\n",
              "      <td>RS</td>\n",
              "      <td>RJ</td>\n",
              "      <td>0</td>\n",
              "      <td>0</td>\n",
              "    </tr>\n",
              "    <tr>\n",
              "      <th>5</th>\n",
              "      <td>5</td>\n",
              "      <td>2007-06-09</td>\n",
              "      <td>18h10</td>\n",
              "      <td>Sábado</td>\n",
              "      <td>Palmeiras</td>\n",
              "      <td>Botafogo-RJ</td>\n",
              "      <td>-</td>\n",
              "      <td>Parque Antártica</td>\n",
              "      <td>1</td>\n",
              "      <td>1</td>\n",
              "      <td>SP</td>\n",
              "      <td>RJ</td>\n",
              "      <td>-</td>\n",
              "      <td>0</td>\n",
              "      <td>0</td>\n",
              "    </tr>\n",
              "  </tbody>\n",
              "</table>\n",
              "</div>"
            ],
            "text/plain": [
              "   Rodada       Data  ... Gol Botafogo Mandante Gol Botafogo Visitante\n",
              "0       1 2007-05-13  ...                     0                      0\n",
              "2       2 2007-05-20  ...                     0                      0\n",
              "3       3 2007-05-27  ...                     0                      0\n",
              "4       4 2007-06-02  ...                     0                      0\n",
              "5       5 2007-06-09  ...                     0                      0\n",
              "\n",
              "[5 rows x 15 columns]"
            ]
          },
          "metadata": {
            "tags": []
          },
          "execution_count": 64
        }
      ]
    },
    {
      "cell_type": "code",
      "metadata": {
        "colab": {
          "base_uri": "https://localhost:8080/"
        },
        "id": "8C_Sji367EC5",
        "outputId": "0db79c09-2d4f-42f7-ec86-8135336eef85"
      },
      "source": [
        "# Adicionar valores na coluna Gol Botafogo Mandante\n",
        "for indice, linha in jogos_botafogo.iterrows():\n",
        "  if linha['Mandante'] == 'Botafogo-RJ':\n",
        "    jogos_botafogo.loc[indice, 'Gol Botafogo Mandante'] = int(jogos_botafogo.loc[indice, 'Mandante Placar'])\n",
        "  else:\n",
        "    jogos_botafogo.loc[indice, 'Gol Botafogo Mandante'] = int('0')"
      ],
      "execution_count": 65,
      "outputs": [
        {
          "output_type": "stream",
          "text": [
            "/usr/local/lib/python3.7/dist-packages/pandas/core/indexing.py:1763: SettingWithCopyWarning: \n",
            "A value is trying to be set on a copy of a slice from a DataFrame.\n",
            "Try using .loc[row_indexer,col_indexer] = value instead\n",
            "\n",
            "See the caveats in the documentation: https://pandas.pydata.org/pandas-docs/stable/user_guide/indexing.html#returning-a-view-versus-a-copy\n",
            "  isetter(loc, value)\n"
          ],
          "name": "stderr"
        }
      ]
    },
    {
      "cell_type": "code",
      "metadata": {
        "colab": {
          "base_uri": "https://localhost:8080/"
        },
        "id": "NQF-tjsUstPO",
        "outputId": "1f160ce9-12ff-4023-bf32-030e0f8b5fb7"
      },
      "source": [
        "# Adicionar valores na coluna Gol Botafogo Visitante\n",
        "for indice, linha in jogos_botafogo.iterrows():\n",
        "  if linha['Visitante'] == 'Botafogo-RJ':\n",
        "    jogos_botafogo.loc[indice, 'Gol Botafogo Visitante'] = int(jogos_botafogo.loc[indice, 'Visitante Placar'])\n",
        "  else:\n",
        "    jogos_botafogo.loc[indice, 'Gol Botafogo Visitante'] = int('0')"
      ],
      "execution_count": 66,
      "outputs": [
        {
          "output_type": "stream",
          "text": [
            "/usr/local/lib/python3.7/dist-packages/pandas/core/indexing.py:1763: SettingWithCopyWarning: \n",
            "A value is trying to be set on a copy of a slice from a DataFrame.\n",
            "Try using .loc[row_indexer,col_indexer] = value instead\n",
            "\n",
            "See the caveats in the documentation: https://pandas.pydata.org/pandas-docs/stable/user_guide/indexing.html#returning-a-view-versus-a-copy\n",
            "  isetter(loc, value)\n"
          ],
          "name": "stderr"
        }
      ]
    },
    {
      "cell_type": "code",
      "metadata": {
        "colab": {
          "base_uri": "https://localhost:8080/",
          "height": 323
        },
        "id": "V4E8sQil0h4G",
        "outputId": "4cf73023-9e12-4979-87a2-dc8d69ea154a"
      },
      "source": [
        "# Dataset com novas colunas e já preenchidas\n",
        "jogos_botafogo.head()"
      ],
      "execution_count": 67,
      "outputs": [
        {
          "output_type": "execute_result",
          "data": {
            "text/html": [
              "<div>\n",
              "<style scoped>\n",
              "    .dataframe tbody tr th:only-of-type {\n",
              "        vertical-align: middle;\n",
              "    }\n",
              "\n",
              "    .dataframe tbody tr th {\n",
              "        vertical-align: top;\n",
              "    }\n",
              "\n",
              "    .dataframe thead th {\n",
              "        text-align: right;\n",
              "    }\n",
              "</style>\n",
              "<table border=\"1\" class=\"dataframe\">\n",
              "  <thead>\n",
              "    <tr style=\"text-align: right;\">\n",
              "      <th></th>\n",
              "      <th>Rodada</th>\n",
              "      <th>Data</th>\n",
              "      <th>Horário</th>\n",
              "      <th>Dia</th>\n",
              "      <th>Mandante</th>\n",
              "      <th>Visitante</th>\n",
              "      <th>Vencedor</th>\n",
              "      <th>Arena</th>\n",
              "      <th>Mandante Placar</th>\n",
              "      <th>Visitante Placar</th>\n",
              "      <th>Estado Mandante</th>\n",
              "      <th>Estado Visitante</th>\n",
              "      <th>Estado Vencedor</th>\n",
              "      <th>Gol Botafogo Mandante</th>\n",
              "      <th>Gol Botafogo Visitante</th>\n",
              "    </tr>\n",
              "  </thead>\n",
              "  <tbody>\n",
              "    <tr>\n",
              "      <th>0</th>\n",
              "      <td>1</td>\n",
              "      <td>2007-05-13</td>\n",
              "      <td>16h00</td>\n",
              "      <td>Domingo</td>\n",
              "      <td>Internacional</td>\n",
              "      <td>Botafogo-RJ</td>\n",
              "      <td>Botafogo-RJ</td>\n",
              "      <td>Beira Rio</td>\n",
              "      <td>2</td>\n",
              "      <td>3</td>\n",
              "      <td>RS</td>\n",
              "      <td>RJ</td>\n",
              "      <td>RJ</td>\n",
              "      <td>0</td>\n",
              "      <td>3</td>\n",
              "    </tr>\n",
              "    <tr>\n",
              "      <th>2</th>\n",
              "      <td>2</td>\n",
              "      <td>2007-05-20</td>\n",
              "      <td>16h00</td>\n",
              "      <td>Domingo</td>\n",
              "      <td>Botafogo-RJ</td>\n",
              "      <td>Atlético-MG</td>\n",
              "      <td>Botafogo-RJ</td>\n",
              "      <td>Maracanã</td>\n",
              "      <td>2</td>\n",
              "      <td>1</td>\n",
              "      <td>RJ</td>\n",
              "      <td>MG</td>\n",
              "      <td>RJ</td>\n",
              "      <td>2</td>\n",
              "      <td>0</td>\n",
              "    </tr>\n",
              "    <tr>\n",
              "      <th>3</th>\n",
              "      <td>3</td>\n",
              "      <td>2007-05-27</td>\n",
              "      <td>18h10</td>\n",
              "      <td>Domingo</td>\n",
              "      <td>Flamengo</td>\n",
              "      <td>Botafogo-RJ</td>\n",
              "      <td>-</td>\n",
              "      <td>Maracanã</td>\n",
              "      <td>2</td>\n",
              "      <td>2</td>\n",
              "      <td>RJ</td>\n",
              "      <td>RJ</td>\n",
              "      <td>-</td>\n",
              "      <td>0</td>\n",
              "      <td>2</td>\n",
              "    </tr>\n",
              "    <tr>\n",
              "      <th>4</th>\n",
              "      <td>4</td>\n",
              "      <td>2007-06-02</td>\n",
              "      <td>18h10</td>\n",
              "      <td>Sábado</td>\n",
              "      <td>Botafogo-RJ</td>\n",
              "      <td>Grêmio</td>\n",
              "      <td>Botafogo-RJ</td>\n",
              "      <td>Maracanã</td>\n",
              "      <td>3</td>\n",
              "      <td>0</td>\n",
              "      <td>RJ</td>\n",
              "      <td>RS</td>\n",
              "      <td>RJ</td>\n",
              "      <td>3</td>\n",
              "      <td>0</td>\n",
              "    </tr>\n",
              "    <tr>\n",
              "      <th>5</th>\n",
              "      <td>5</td>\n",
              "      <td>2007-06-09</td>\n",
              "      <td>18h10</td>\n",
              "      <td>Sábado</td>\n",
              "      <td>Palmeiras</td>\n",
              "      <td>Botafogo-RJ</td>\n",
              "      <td>-</td>\n",
              "      <td>Parque Antártica</td>\n",
              "      <td>1</td>\n",
              "      <td>1</td>\n",
              "      <td>SP</td>\n",
              "      <td>RJ</td>\n",
              "      <td>-</td>\n",
              "      <td>0</td>\n",
              "      <td>1</td>\n",
              "    </tr>\n",
              "  </tbody>\n",
              "</table>\n",
              "</div>"
            ],
            "text/plain": [
              "   Rodada       Data  ... Gol Botafogo Mandante Gol Botafogo Visitante\n",
              "0       1 2007-05-13  ...                     0                      3\n",
              "2       2 2007-05-20  ...                     2                      0\n",
              "3       3 2007-05-27  ...                     0                      2\n",
              "4       4 2007-06-02  ...                     3                      0\n",
              "5       5 2007-06-09  ...                     0                      1\n",
              "\n",
              "[5 rows x 15 columns]"
            ]
          },
          "metadata": {
            "tags": []
          },
          "execution_count": 67
        }
      ]
    },
    {
      "cell_type": "code",
      "metadata": {
        "colab": {
          "base_uri": "https://localhost:8080/",
          "height": 350
        },
        "id": "HBi_vFJKCKnT",
        "outputId": "b33cc0bc-e18e-4d58-d350-b9af4fbd3b17"
      },
      "source": [
        "%matplotlib inline\n",
        "\n",
        "# Criar eixo x para gol mandante e gol visitante\n",
        "x1 = np.arange(len(jogos_botafogo['Rodada']))\n",
        "x2 = [x + 0.10 for x in x1]\n",
        "\n",
        "# Alterar as dimensões do gráfico\n",
        "fig, ax = plt.subplots(figsize=(20,5))\n",
        "\n",
        "# Plota as barras\n",
        "plt.bar(x1, jogos_botafogo['Gol Botafogo Mandante'], width=0.50, label='Gols como mandante', color='b')\n",
        "plt.bar(x2, jogos_botafogo['Gol Botafogo Visitante'], width=0.50,label='Gols como visitante', color='y')\n",
        "\n",
        "plt.xticks([x + 0.08 for x in range(len(jogos_botafogo['Rodada']))], jogos_botafogo['Rodada'])\n",
        "plt.yticks(np.arange(5))\n",
        "\n",
        "plt.xlabel('Rodadas')\n",
        "plt.ylabel('Gols')\n",
        "\n",
        "plt.legend()\n",
        "\n",
        "plt.title(\"Gols marcados pelo Botafogo no campeonato\")\n",
        "plt.show()\n"
      ],
      "execution_count": 68,
      "outputs": [
        {
          "output_type": "display_data",
          "data": {
            "image/png": "[encoded data removed]",
            "text/plain": [
              "<Figure size 1440x360 with 1 Axes>"
            ]
          },
          "metadata": {
            "tags": [],
            "needs_background": "light"
          }
        }
      ]
    },
    {
      "cell_type": "markdown",
      "metadata": {
        "id": "CYWFxpQXusSO"
      },
      "source": [
        "\n",
        "\n",
        "---\n",
        "\n"
      ]
    }
  ]
}